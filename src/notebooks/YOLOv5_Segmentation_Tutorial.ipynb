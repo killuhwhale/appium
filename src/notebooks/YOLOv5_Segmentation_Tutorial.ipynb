{
 "cells": [
  {
   "cell_type": "markdown",
   "metadata": {
    "id": "t6MPjfT5NrKQ"
   },
   "source": [
    "<div align=\"center\">\n",
    "\n",
    "  <a href=\"https://ultralytics.com/yolov5\" target=\"_blank\">\n",
    "    <img width=\"1024\", src=\"https://raw.githubusercontent.com/ultralytics/assets/master/yolov5/v70/splash.png\"></a>\n",
    "\n",
    "\n",
    "<br>\n",
    "  <a href=\"https://bit.ly/yolov5-paperspace-notebook\"><img src=\"https://assets.paperspace.io/img/gradient-badge.svg\" alt=\"Run on Gradient\"></a>\n",
    "  <a href=\"https://colab.research.google.com/github/ultralytics/yolov5/blob/master/segment/tutorial.ipynb\"><img src=\"https://colab.research.google.com/assets/colab-badge.svg\" alt=\"Open In Colab\"></a>\n",
    "  <a href=\"https://www.kaggle.com/ultralytics/yolov5\"><img src=\"https://kaggle.com/static/images/open-in-kaggle.svg\" alt=\"Open In Kaggle\"></a>\n",
    "<br>\n",
    "\n",
    "This <a href=\"https://github.com/ultralytics/yolov5\">YOLOv5</a> 🚀 notebook by <a href=\"https://ultralytics.com\">Ultralytics</a> presents simple train, validate and predict examples to help start your AI adventure.<br>See <a href=\"https://github.com/ultralytics/yolov5/issues/new/choose\">GitHub</a> for community support or <a href=\"https://ultralytics.com/contact\">contact us</a> for professional support.\n",
    "\n",
    "</div>"
   ]
  },
  {
   "cell_type": "markdown",
   "metadata": {
    "id": "7mGmQbAO5pQb"
   },
   "source": [
    "# Setup\n",
    "\n",
    "Clone GitHub [repository](https://github.com/ultralytics/yolov5), install [dependencies](https://github.com/ultralytics/yolov5/blob/master/requirements.txt) and check PyTorch and GPU."
   ]
  },
  {
   "cell_type": "code",
   "execution_count": 1,
   "metadata": {
    "colab": {
     "base_uri": "https://localhost:8080/"
    },
    "id": "wbvMlHd_QwMG",
    "outputId": "171b23f0-71b9-4cbf-b666-6fa2ecef70c8",
    "scrolled": true
   },
   "outputs": [
    {
     "name": "stderr",
     "output_type": "stream",
     "text": [
      "/home/killuh/ws_p38/appium/lib/python3.8/site-packages/tqdm/auto.py:22: TqdmWarning: IProgress not found. Please update jupyter and ipywidgets. See https://ipywidgets.readthedocs.io/en/stable/user_install.html\n",
      "  from .autonotebook import tqdm as notebook_tqdm\n"
     ]
    }
   ],
   "source": [
    "# !git clone https://github.com/ultralytics/yolov5  # clone\n",
    "# %cd yolov5\n",
    "# %pip install -qr requirements.txt  # install\n",
    "\n",
    "import torch\n",
    "import utils\n",
    "# display = utils.notebook_init()  # checks"
   ]
  },
  {
   "cell_type": "markdown",
   "metadata": {
    "id": "4JnkELT0cIJg"
   },
   "source": [
    "# 1. Predict\n",
    "\n",
    "`segment/predict.py` runs YOLOv5 instance segmentation inference on a variety of sources, downloading models automatically from the [latest YOLOv5 release](https://github.com/ultralytics/yolov5/releases), and saving results to `runs/predict`. Example inference sources are:\n",
    "\n",
    "```shell\n",
    "python segment/predict.py --source 0  # webcam\n",
    "                             img.jpg  # image \n",
    "                             vid.mp4  # video\n",
    "                             screen  # screenshot\n",
    "                             path/  # directory\n",
    "                             'path/*.jpg'  # glob\n",
    "                             'https://youtu.be/Zgi9g1ksQHc'  # YouTube\n",
    "                             'rtsp://example.com/media.mp4'  # RTSP, RTMP, HTTP stream\n",
    "```"
   ]
  },
  {
   "cell_type": "code",
   "execution_count": 1,
   "metadata": {
    "colab": {
     "base_uri": "https://localhost:8080/"
    },
    "collapsed": true,
    "id": "zR9ZbuQCH7FX",
    "outputId": "3f67f1c7-f15e-4fa5-d251-967c3b77eaad"
   },
   "outputs": [
    {
     "name": "stdout",
     "output_type": "stream",
     "text": [
      "\u001b[34m\u001b[1mdetect: \u001b[0mweights=['yolov5/runs/train/exp11/weights/best.pt'], source=yolo_images/test_data/test/3.png, data=yolov5/data/coco128.yaml, imgsz=[640, 640], conf_thres=0.2, iou_thres=0.45, max_det=1000, device=, view_img=False, save_txt=False, save_conf=False, save_crop=False, nosave=False, classes=None, agnostic_nms=False, augment=False, visualize=False, update=False, project=yolov5/runs/detect, name=exp, exist_ok=False, line_thickness=3, hide_labels=False, hide_conf=False, half=False, dnn=False, vid_stride=1\n",
      "opts:  Namespace(agnostic_nms=False, augment=False, classes=None, conf_thres=0.2, data=PosixPath('yolov5/data/coco128.yaml'), device='', dnn=False, exist_ok=False, half=False, hide_conf=False, hide_labels=False, imgsz=[640, 640], iou_thres=0.45, line_thickness=3, max_det=1000, name='exp', nosave=False, project=PosixPath('yolov5/runs/detect'), save_conf=False, save_crop=False, save_txt=False, source='yolo_images/test_data/test/3.png', update=False, vid_stride=1, view_img=False, visualize=False, weights=['yolov5/runs/train/exp11/weights/best.pt'])\n",
      "YOLOv5 🚀 v7.0-33-g1752768 Python-3.8.10 torch-1.13.0+cu117 CUDA:0 (NVIDIA GeForce RTX 3080, 9996MiB)\n",
      "\n",
      "Fusing layers... \n",
      "Model summary: 157 layers, 7020913 parameters, 0 gradients, 15.8 GFLOPs\n",
      "image 1/1 /home/killuh/ws_p38/appium/src/notebooks/yolo_images/test_data/test/3.png: 640x320 (no detections), 10.1ms\n",
      "Speed: 1.4ms pre-process, 10.1ms inference, 8.6ms NMS per image at shape (1, 3, 640, 640)\n",
      "Results saved to \u001b[1myolov5/runs/detect/exp12\u001b[0m\n",
      "Str res:  None\n"
     ]
    }
   ],
   "source": [
    "# After Training with test data, replace --weights with the latest run. \n",
    "# Also, replace --source with image to use to detect objects in  \n",
    "!python yolov5/detect.py --weights yolov5/runs/train/exp11/weights/best.pt --img 640 --conf 0.2 --source yolo_images/test_data/test/3.png\n",
    "# display.Image(filename='yolov5/runs/predict/exp8/1.png', width=600)"
   ]
  },
  {
   "cell_type": "markdown",
   "metadata": {
    "id": "hkAzDWJ7cWTr"
   },
   "source": [
    "&nbsp;&nbsp;&nbsp;&nbsp;&nbsp;&nbsp;&nbsp;&nbsp;\n",
    "<img align=\"left\" src=\"https://user-images.githubusercontent.com/26833433/199030123-08c72f8d-6871-4116-8ed3-c373642cf28e.jpg\" width=\"600\">"
   ]
  },
  {
   "cell_type": "markdown",
   "metadata": {
    "id": "0eq1SMWl6Sfn"
   },
   "source": [
    "# 2. Validate\n",
    "Validate a model's accuracy on the [COCO](https://cocodataset.org/#home) dataset's `val` or `test` splits. Models are downloaded automatically from the [latest YOLOv5 release](https://github.com/ultralytics/yolov5/releases). To show results by class use the `--verbose` flag."
   ]
  },
  {
   "cell_type": "code",
   "execution_count": null,
   "metadata": {
    "colab": {
     "base_uri": "https://localhost:8080/"
    },
    "collapsed": true,
    "id": "WQPtK1QYVaD_",
    "outputId": "9d751d8c-bee8-4339-cf30-9854ca530449"
   },
   "outputs": [
    {
     "name": "stdout",
     "output_type": "stream",
     "text": [
      "Downloading https://github.com/ultralytics/yolov5/releases/download/v1.0/coco2017labels-segments.zip  ...\n",
      "Downloading http://images.cocodataset.org/zips/val2017.zip ...\n",
      "######################################################################## 100.0%\n",
      "######################################################################## 100.0%\n"
     ]
    }
   ],
   "source": [
    "# Download COCO val\n",
    "!bash data/scripts/get_coco.sh --val --segments  # download (780M - 5000 images)"
   ]
  },
  {
   "cell_type": "code",
   "execution_count": null,
   "metadata": {
    "colab": {
     "base_uri": "https://localhost:8080/"
    },
    "collapsed": true,
    "id": "X58w8JLpMnjH",
    "outputId": "a140d67a-02da-479e-9ddb-7d54bf9e407a"
   },
   "outputs": [
    {
     "name": "stdout",
     "output_type": "stream",
     "text": [
      "\u001b[34m\u001b[1msegment/val: \u001b[0mdata=/content/yolov5/data/coco.yaml, weights=['yolov5s-seg.pt'], batch_size=32, imgsz=640, conf_thres=0.001, iou_thres=0.6, max_det=300, task=val, device=, workers=8, single_cls=False, augment=False, verbose=False, save_txt=False, save_hybrid=False, save_conf=False, save_json=False, project=runs/val-seg, name=exp, exist_ok=False, half=True, dnn=False\n",
      "YOLOv5 🚀 v7.0-2-gc9d47ae Python-3.7.15 torch-1.12.1+cu113 CUDA:0 (Tesla T4, 15110MiB)\n",
      "\n",
      "Fusing layers... \n",
      "YOLOv5s-seg summary: 224 layers, 7611485 parameters, 0 gradients, 26.4 GFLOPs\n",
      "\u001b[34m\u001b[1mval: \u001b[0mScanning /content/datasets/coco/val2017... 4952 images, 48 backgrounds, 0 corrupt: 100% 5000/5000 [00:03<00:00, 1361.31it/s]\n",
      "\u001b[34m\u001b[1mval: \u001b[0mNew cache created: /content/datasets/coco/val2017.cache\n",
      "                 Class     Images  Instances      Box(P          R      mAP50  mAP50-95)     Mask(P          R      mAP50  mAP50-95): 100% 157/157 [01:54<00:00,  1.37it/s]\n",
      "                   all       5000      36335      0.673      0.517      0.566      0.373      0.672       0.49      0.532      0.319\n",
      "Speed: 0.6ms pre-process, 4.4ms inference, 2.9ms NMS per image at shape (32, 3, 640, 640)\n",
      "Results saved to \u001b[1mruns/val-seg/exp\u001b[0m\n"
     ]
    }
   ],
   "source": [
    "# Validate YOLOv5s-seg on COCO val\n",
    "!python segment/val.py --weights yolov5s-seg.pt --data coco.yaml --img 640 --half"
   ]
  },
  {
   "cell_type": "markdown",
   "metadata": {
    "id": "ZY2VXXXu74w5"
   },
   "source": [
    "# 3. Train\n",
    "\n",
    "<p align=\"\"><a href=\"https://roboflow.com/?ref=ultralytics\"><img width=\"1000\" src=\"https://github.com/ultralytics/assets/raw/master/im/integrations-loop.png\"/></a></p>\n",
    "Close the active learning loop by sampling images from your inference conditions with the `roboflow` pip package\n",
    "<br><br>\n",
    "\n",
    "Train a YOLOv5s-seg model on the [COCO128](https://www.kaggle.com/ultralytics/coco128) dataset with `--data coco128-seg.yaml`, starting from pretrained `--weights yolov5s-seg.pt`, or from randomly initialized `--weights '' --cfg yolov5s-seg.yaml`.\n",
    "\n",
    "- **Pretrained [Models](https://github.com/ultralytics/yolov5/tree/master/models)** are downloaded\n",
    "automatically from the [latest YOLOv5 release](https://github.com/ultralytics/yolov5/releases)\n",
    "- **[Datasets](https://github.com/ultralytics/yolov5/tree/master/data)** available for autodownload include: [COCO](https://github.com/ultralytics/yolov5/blob/master/data/coco.yaml), [COCO128](https://github.com/ultralytics/yolov5/blob/master/data/coco128.yaml), [VOC](https://github.com/ultralytics/yolov5/blob/master/data/VOC.yaml), [Argoverse](https://github.com/ultralytics/yolov5/blob/master/data/Argoverse.yaml), [VisDrone](https://github.com/ultralytics/yolov5/blob/master/data/VisDrone.yaml), [GlobalWheat](https://github.com/ultralytics/yolov5/blob/master/data/GlobalWheat2020.yaml), [xView](https://github.com/ultralytics/yolov5/blob/master/data/xView.yaml), [Objects365](https://github.com/ultralytics/yolov5/blob/master/data/Objects365.yaml), [SKU-110K](https://github.com/ultralytics/yolov5/blob/master/data/SKU-110K.yaml).\n",
    "- **Training Results** are saved to `runs/train-seg/` with incrementing run directories, i.e. `runs/train-seg/exp2`, `runs/train-seg/exp3` etc.\n",
    "<br><br>\n",
    "\n",
    "A **Mosaic Dataloader** is used for training which combines 4 images into 1 mosaic.\n",
    "\n",
    "## Train on Custom Data with Roboflow 🌟 NEW\n",
    "\n",
    "[Roboflow](https://roboflow.com/?ref=ultralytics) enables you to easily **organize, label, and prepare** a high quality dataset with your own custom data. Roboflow also makes it easy to establish an active learning pipeline, collaborate with your team on dataset improvement, and integrate directly into your model building workflow with the `roboflow` pip package.\n",
    "\n",
    "- Custom Training Example: [https://blog.roboflow.com/train-yolov5-instance-segmentation-custom-dataset/](https://blog.roboflow.com/train-yolov5-instance-segmentation-custom-dataset/?ref=ultralytics)\n",
    "- Custom Training Notebook: [![Open In Colab](https://colab.research.google.com/assets/colab-badge.svg)](https://colab.research.google.com/drive/1JTz7kpmHsg-5qwVz2d2IH3AaenI1tv0N?usp=sharing)\n",
    "<br>\n",
    "\n",
    "<p align=\"\"><a href=\"https://roboflow.com/?ref=ultralytics\"><img width=\"480\" src=\"https://robflow-public-assets.s3.amazonaws.com/how-to-train-yolov5-segmentation-annotation.gif\"/></a></p>Label images lightning fast (including with model-assisted labeling)"
   ]
  },
  {
   "cell_type": "code",
   "execution_count": null,
   "metadata": {
    "id": "i3oKtE4g-aNn"
   },
   "outputs": [],
   "source": [
    "#@title Select YOLOv5 🚀 logger {run: 'auto'}\n",
    "logger = 'TensorBoard' #@param ['TensorBoard', 'Comet', 'ClearML']\n",
    "\n",
    "if logger == 'TensorBoard':\n",
    "  %load_ext tensorboard\n",
    "  %tensorboard --logdir runs/train-seg\n",
    "elif logger == 'Comet':\n",
    "  %pip install -q comet_ml\n",
    "  import comet_ml; comet_ml.init()\n",
    "elif logger == 'ClearML':\n",
    "  import clearml; clearml.browser_login()"
   ]
  },
  {
   "cell_type": "code",
   "execution_count": 4,
   "metadata": {
    "colab": {
     "base_uri": "https://localhost:8080/"
    },
    "id": "1NcFxRcFdJ_O",
    "outputId": "3a3e0cf7-e79c-47a5-c8e7-2d26eeeab988",
    "scrolled": false
   },
   "outputs": [
    {
     "name": "stdout",
     "output_type": "stream",
     "text": [
      "\u001b[34m\u001b[1mtrain: \u001b[0mweights=yolov5s.pt, cfg=, data=coco128.yaml, hyp=yolov5/data/hyps/hyp.scratch-low.yaml, epochs=75, batch_size=8, imgsz=640, rect=False, resume=False, nosave=False, noval=False, noautoanchor=False, noplots=False, evolve=None, bucket=, cache=ram, image_weights=False, device=, multi_scale=False, single_cls=False, optimizer=SGD, sync_bn=False, workers=8, project=yolov5/runs/train, name=exp, exist_ok=False, quad=False, cos_lr=False, label_smoothing=0.0, patience=100, freeze=[0], save_period=-1, seed=0, local_rank=-1, entity=None, upload_dataset=False, bbox_interval=-1, artifact_alias=latest\n",
      "\u001b[34m\u001b[1mgithub: \u001b[0mskipping check (not a git repository), for updates see https://github.com/ultralytics/yolov5\n",
      "YOLOv5 🚀 2023-1-5 Python-3.8.10 torch-1.13.0+cu117 CUDA:0 (NVIDIA GeForce RTX 3080, 9996MiB)\n",
      "\n",
      "\u001b[34m\u001b[1mhyperparameters: \u001b[0mlr0=0.01, lrf=0.01, momentum=0.937, weight_decay=0.0005, warmup_epochs=3.0, warmup_momentum=0.8, warmup_bias_lr=0.1, box=0.05, cls=0.5, cls_pw=1.0, obj=1.0, obj_pw=1.0, iou_t=0.2, anchor_t=4.0, fl_gamma=0.0, hsv_h=0.015, hsv_s=0.7, hsv_v=0.4, degrees=0.0, translate=0.1, scale=0.5, shear=0.0, perspective=0.0, flipud=0.0, fliplr=0.5, mosaic=1.0, mixup=0.0, copy_paste=0.0\n",
      "\u001b[34m\u001b[1mClearML: \u001b[0mrun 'pip install clearml' to automatically track, visualize and remotely train YOLOv5 🚀 in ClearML\n",
      "\u001b[34m\u001b[1mComet: \u001b[0mrun 'pip install comet_ml' to automatically track and visualize YOLOv5 🚀 runs in Comet\n",
      "\u001b[34m\u001b[1mTensorBoard: \u001b[0mStart with 'tensorboard --logdir yolov5/runs/train', view at http://localhost:6006/\n",
      "Overriding model.yaml nc=80 with nc=5\n",
      "\n",
      "                 from  n    params  module                                  arguments                     \n",
      "  0                -1  1      3520  models.common.Conv                      [3, 32, 6, 2, 2]              \n",
      "  1                -1  1     18560  models.common.Conv                      [32, 64, 3, 2]                \n",
      "  2                -1  1     18816  models.common.C3                        [64, 64, 1]                   \n",
      "  3                -1  1     73984  models.common.Conv                      [64, 128, 3, 2]               \n",
      "  4                -1  2    115712  models.common.C3                        [128, 128, 2]                 \n",
      "  5                -1  1    295424  models.common.Conv                      [128, 256, 3, 2]              \n",
      "  6                -1  3    625152  models.common.C3                        [256, 256, 3]                 \n",
      "  7                -1  1   1180672  models.common.Conv                      [256, 512, 3, 2]              \n",
      "  8                -1  1   1182720  models.common.C3                        [512, 512, 1]                 \n",
      "  9                -1  1    656896  models.common.SPPF                      [512, 512, 5]                 \n",
      " 10                -1  1    131584  models.common.Conv                      [512, 256, 1, 1]              \n",
      " 11                -1  1         0  torch.nn.modules.upsampling.Upsample    [None, 2, 'nearest']          \n",
      " 12           [-1, 6]  1         0  models.common.Concat                    [1]                           \n",
      " 13                -1  1    361984  models.common.C3                        [512, 256, 1, False]          \n",
      " 14                -1  1     33024  models.common.Conv                      [256, 128, 1, 1]              \n",
      " 15                -1  1         0  torch.nn.modules.upsampling.Upsample    [None, 2, 'nearest']          \n",
      " 16           [-1, 4]  1         0  models.common.Concat                    [1]                           \n",
      " 17                -1  1     90880  models.common.C3                        [256, 128, 1, False]          \n",
      " 18                -1  1    147712  models.common.Conv                      [128, 128, 3, 2]              \n",
      " 19          [-1, 14]  1         0  models.common.Concat                    [1]                           \n",
      " 20                -1  1    296448  models.common.C3                        [256, 256, 1, False]          \n",
      " 21                -1  1    590336  models.common.Conv                      [256, 256, 3, 2]              \n",
      " 22          [-1, 10]  1         0  models.common.Concat                    [1]                           \n",
      " 23                -1  1   1182720  models.common.C3                        [512, 512, 1, False]          \n",
      " 24      [17, 20, 23]  1     26970  models.yolo.Detect                      [5, [[10, 13, 16, 30, 33, 23], [30, 61, 62, 45, 59, 119], [116, 90, 156, 198, 373, 326]], [128, 256, 512]]\n",
      "Model summary: 214 layers, 7033114 parameters, 7033114 gradients, 16.0 GFLOPs\n",
      "\n",
      "Transferred 343/349 items from yolov5s.pt\n",
      "\u001b[34m\u001b[1mAMP: \u001b[0mchecks passed ✅\n",
      "\u001b[34m\u001b[1moptimizer:\u001b[0m SGD(lr=0.01) with parameter groups 57 weight(decay=0.0), 60 weight(decay=0.0005), 60 bias\n",
      "\u001b[34m\u001b[1mtrain: \u001b[0mScanning /home/killuh/ws_p38/appium/src/notebooks/yolo_images/train_data/\u001b[0m\n",
      "\u001b[34m\u001b[1mtrain: \u001b[0mNew cache created: /home/killuh/ws_p38/appium/src/notebooks/yolo_images/train_data/labels.cache\n",
      "\u001b[34m\u001b[1mtrain: \u001b[0mCaching images (0.6GB ram): 100%|██████████| 858/858 [00:00<00:00, 4058.5\u001b[0m\n",
      "\u001b[34m\u001b[1mval: \u001b[0mScanning /home/killuh/ws_p38/appium/src/notebooks/yolo_images/train_data/la\u001b[0m\n",
      "\u001b[34m\u001b[1mval: \u001b[0mCaching images (0.6GB ram): 100%|██████████| 858/858 [00:00<00:00, 1562.54i\u001b[0m\n",
      "\n",
      "\u001b[34m\u001b[1mAutoAnchor: \u001b[0m2.72 anchors/target, 0.977 Best Possible Recall (BPR). Anchors are a poor fit to dataset ⚠️, attempting to improve...\n",
      "\u001b[34m\u001b[1mAutoAnchor: \u001b[0mRunning kmeans for 9 anchors on 1251 points...\n",
      "\u001b[34m\u001b[1mAutoAnchor: \u001b[0mEvolving anchors with Genetic Algorithm: fitness = 0.8153: 100%|████\u001b[0m\n",
      "\u001b[34m\u001b[1mAutoAnchor: \u001b[0mthr=0.25: 1.0000 best possible recall, 6.17 anchors past thr\n",
      "\u001b[34m\u001b[1mAutoAnchor: \u001b[0mn=9, img_size=640, metric_all=0.434/0.815-mean/best, past_thr=0.572-mean: 29,18, 83,18, 10,160, 98,29, 157,19, 163,26, 213,21, 181,39, 562,22\n",
      "\u001b[34m\u001b[1mAutoAnchor: \u001b[0mDone ✅ (optional: update model *.yaml to use these anchors in the future)\n",
      "Plotting labels to yolov5/runs/train/exp7/labels.jpg... \n",
      "Image sizes 640 train, 640 val\n",
      "Using 8 dataloader workers\n",
      "Logging results to \u001b[1myolov5/runs/train/exp7\u001b[0m\n",
      "Starting training for 75 epochs...\n",
      "\n",
      "      Epoch    GPU_mem   box_loss   obj_loss   cls_loss  Instances       Size\n",
      "       0/74       1.7G     0.1089    0.02977    0.04053          2        640: 1\n",
      "                 Class     Images  Instances          P          R      mAP50   \n",
      "                   all        858       1251      0.618       0.06     0.0131    0.00298\n",
      "\n",
      "      Epoch    GPU_mem   box_loss   obj_loss   cls_loss  Instances       Size\n",
      "       1/74       1.7G    0.08365     0.0246    0.02708          4        640: 1\n",
      "                 Class     Images  Instances          P          R      mAP50   \n",
      "                   all        858       1251      0.845     0.0711     0.0465     0.0164\n",
      "\n",
      "      Epoch    GPU_mem   box_loss   obj_loss   cls_loss  Instances       Size\n",
      "       2/74      1.71G    0.07853    0.02234    0.02366          4        640: 1\n",
      "                 Class     Images  Instances          P          R      mAP50   \n",
      "                   all        858       1251      0.834     0.0743     0.0465     0.0133\n",
      "\n",
      "      Epoch    GPU_mem   box_loss   obj_loss   cls_loss  Instances       Size\n",
      "       3/74      1.71G    0.07201    0.02024    0.02038          3        640: 1\n",
      "                 Class     Images  Instances          P          R      mAP50   \n",
      "                   all        858       1251      0.494      0.198      0.107     0.0372\n",
      "\n",
      "      Epoch    GPU_mem   box_loss   obj_loss   cls_loss  Instances       Size\n",
      "       4/74      1.71G    0.06505    0.01976    0.01765          3        640: 1\n",
      "                 Class     Images  Instances          P          R      mAP50   \n",
      "                   all        858       1251      0.551      0.344      0.202     0.0793\n",
      "\n",
      "      Epoch    GPU_mem   box_loss   obj_loss   cls_loss  Instances       Size\n",
      "       5/74      1.71G     0.0579    0.01759    0.01621          8        640: 1\n",
      "                 Class     Images  Instances          P          R      mAP50   \n",
      "                   all        858       1251       0.63      0.378      0.316       0.15\n",
      "\n",
      "      Epoch    GPU_mem   box_loss   obj_loss   cls_loss  Instances       Size\n"
     ]
    },
    {
     "name": "stdout",
     "output_type": "stream",
     "text": [
      "       6/74      1.71G    0.05615     0.0172    0.01522          8        640: 1\n",
      "                 Class     Images  Instances          P          R      mAP50   \n",
      "                   all        858       1251      0.679      0.396      0.357      0.176\n",
      "\n",
      "      Epoch    GPU_mem   box_loss   obj_loss   cls_loss  Instances       Size\n",
      "       7/74      1.71G    0.05162    0.01642    0.01456          7        640: 1\n",
      "                 Class     Images  Instances          P          R      mAP50   \n",
      "                   all        858       1251      0.769      0.336      0.377      0.172\n",
      "\n",
      "      Epoch    GPU_mem   box_loss   obj_loss   cls_loss  Instances       Size\n",
      "       8/74      1.71G    0.04969    0.01663    0.01437         11        640: 1\n",
      "                 Class     Images  Instances          P          R      mAP50   \n",
      "                   all        858       1251      0.591      0.497      0.475       0.21\n",
      "\n",
      "      Epoch    GPU_mem   box_loss   obj_loss   cls_loss  Instances       Size\n",
      "       9/74      1.71G    0.04779    0.01565    0.01273          2        640: 1\n",
      "                 Class     Images  Instances          P          R      mAP50   \n",
      "                   all        858       1251      0.383      0.599      0.515      0.297\n",
      "\n",
      "      Epoch    GPU_mem   box_loss   obj_loss   cls_loss  Instances       Size\n",
      "      10/74      1.71G    0.04485    0.01576    0.01326          2        640: 1\n",
      "                 Class     Images  Instances          P          R      mAP50   \n",
      "                   all        858       1251      0.481      0.713      0.633      0.307\n",
      "\n",
      "      Epoch    GPU_mem   box_loss   obj_loss   cls_loss  Instances       Size\n",
      "      11/74      1.71G    0.04452    0.01557    0.01219          7        640: 1\n",
      "                 Class     Images  Instances          P          R      mAP50   \n",
      "                   all        858       1251      0.659      0.651      0.631      0.344\n",
      "\n",
      "      Epoch    GPU_mem   box_loss   obj_loss   cls_loss  Instances       Size\n",
      "      12/74      1.71G     0.0417    0.01439    0.01082          3        640: 1\n",
      "                 Class     Images  Instances          P          R      mAP50   \n",
      "                   all        858       1251      0.701      0.684        0.7      0.387\n",
      "\n",
      "      Epoch    GPU_mem   box_loss   obj_loss   cls_loss  Instances       Size\n",
      "      13/74      1.71G    0.04271    0.01438    0.01064          9        640: 1\n",
      "                 Class     Images  Instances          P          R      mAP50   \n",
      "                   all        858       1251      0.736      0.744      0.779      0.455\n",
      "\n",
      "      Epoch    GPU_mem   box_loss   obj_loss   cls_loss  Instances       Size\n",
      "      14/74      1.71G    0.04135     0.0147   0.009935          7        640: 1\n",
      "                 Class     Images  Instances          P          R      mAP50   \n",
      "                   all        858       1251      0.822      0.714      0.812      0.455\n",
      "\n",
      "      Epoch    GPU_mem   box_loss   obj_loss   cls_loss  Instances       Size\n",
      "      15/74      1.71G      0.042    0.01419   0.009404          4        640: 1\n",
      "                 Class     Images  Instances          P          R      mAP50   \n",
      "                   all        858       1251      0.862       0.77       0.86      0.466\n",
      "\n",
      "      Epoch    GPU_mem   box_loss   obj_loss   cls_loss  Instances       Size\n",
      "      16/74      1.71G     0.0399    0.01344    0.00917         10        640: 1\n",
      "                 Class     Images  Instances          P          R      mAP50   \n",
      "                   all        858       1251      0.846      0.788      0.848      0.504\n",
      "\n",
      "      Epoch    GPU_mem   box_loss   obj_loss   cls_loss  Instances       Size\n",
      "      17/74      1.71G    0.03995    0.01372   0.008266         12        640: 1\n",
      "                 Class     Images  Instances          P          R      mAP50   \n",
      "                   all        858       1251      0.779      0.789      0.826      0.438\n",
      "\n",
      "      Epoch    GPU_mem   box_loss   obj_loss   cls_loss  Instances       Size\n",
      "      18/74      1.71G    0.03862    0.01298     0.0076         11        640: 1\n",
      "                 Class     Images  Instances          P          R      mAP50   \n",
      "                   all        858       1251      0.848      0.829      0.898      0.567\n",
      "\n",
      "      Epoch    GPU_mem   box_loss   obj_loss   cls_loss  Instances       Size\n",
      "      19/74      1.71G    0.03813    0.01213   0.007629          9        640: 1\n",
      "                 Class     Images  Instances          P          R      mAP50   \n",
      "                   all        858       1251      0.845      0.845      0.907      0.564\n",
      "\n",
      "      Epoch    GPU_mem   box_loss   obj_loss   cls_loss  Instances       Size\n",
      "      20/74      1.71G    0.03687    0.01287   0.007079          8        640: 1\n",
      "                 Class     Images  Instances          P          R      mAP50   \n",
      "                   all        858       1251      0.839       0.88       0.92      0.566\n",
      "\n",
      "      Epoch    GPU_mem   box_loss   obj_loss   cls_loss  Instances       Size\n",
      "      21/74      1.71G    0.03703    0.01203   0.006785         11        640: 1\n",
      "                 Class     Images  Instances          P          R      mAP50   \n",
      "                   all        858       1251      0.861      0.883      0.931      0.563\n",
      "\n",
      "      Epoch    GPU_mem   box_loss   obj_loss   cls_loss  Instances       Size\n",
      "      22/74      1.71G    0.03538    0.01184   0.006335          6        640: 1\n",
      "                 Class     Images  Instances          P          R      mAP50   \n",
      "                   all        858       1251      0.816      0.934      0.923      0.598\n",
      "\n",
      "      Epoch    GPU_mem   box_loss   obj_loss   cls_loss  Instances       Size\n",
      "      23/74      1.71G    0.03429    0.01124   0.006249          6        640: 1\n",
      "                 Class     Images  Instances          P          R      mAP50   \n",
      "                   all        858       1251      0.821      0.944      0.924      0.609\n",
      "\n",
      "      Epoch    GPU_mem   box_loss   obj_loss   cls_loss  Instances       Size\n",
      "      24/74      1.71G    0.03553    0.01164   0.006504          3        640: 1\n",
      "                 Class     Images  Instances          P          R      mAP50   \n",
      "                   all        858       1251      0.898      0.935      0.959      0.634\n",
      "\n",
      "      Epoch    GPU_mem   box_loss   obj_loss   cls_loss  Instances       Size\n",
      "      25/74      1.71G    0.03415    0.01183    0.00605          5        640: 1\n",
      "                 Class     Images  Instances          P          R      mAP50   \n",
      "                   all        858       1251      0.886      0.945      0.956      0.591\n",
      "\n",
      "      Epoch    GPU_mem   box_loss   obj_loss   cls_loss  Instances       Size\n",
      "      26/74      1.71G    0.03281    0.01097    0.00573          5        640: 1\n",
      "                 Class     Images  Instances          P          R      mAP50   \n",
      "                   all        858       1251      0.939      0.902      0.974      0.657\n",
      "\n",
      "      Epoch    GPU_mem   box_loss   obj_loss   cls_loss  Instances       Size\n",
      "      27/74      1.71G    0.03277    0.01125   0.005562          4        640: 1\n",
      "                 Class     Images  Instances          P          R      mAP50   \n",
      "                   all        858       1251       0.91      0.928       0.95      0.673\n",
      "\n",
      "      Epoch    GPU_mem   box_loss   obj_loss   cls_loss  Instances       Size\n",
      "      28/74      1.71G    0.03251    0.01114   0.005661          4        640: 1\n",
      "                 Class     Images  Instances          P          R      mAP50   \n",
      "                   all        858       1251      0.908       0.96      0.974      0.685\n",
      "\n",
      "      Epoch    GPU_mem   box_loss   obj_loss   cls_loss  Instances       Size\n",
      "      29/74      1.71G    0.03302    0.01094   0.005498         11        640: 1\n",
      "                 Class     Images  Instances          P          R      mAP50   \n",
      "                   all        858       1251      0.913      0.956      0.968      0.636\n",
      "\n",
      "      Epoch    GPU_mem   box_loss   obj_loss   cls_loss  Instances       Size\n",
      "      30/74      1.71G    0.03022    0.01071   0.004668          3        640: 1\n",
      "                 Class     Images  Instances          P          R      mAP50   \n",
      "                   all        858       1251      0.871       0.96      0.905      0.618\n",
      "\n",
      "      Epoch    GPU_mem   box_loss   obj_loss   cls_loss  Instances       Size\n"
     ]
    },
    {
     "name": "stdout",
     "output_type": "stream",
     "text": [
      "      31/74      1.71G    0.03186    0.01114    0.00529          6        640: 1\n",
      "                 Class     Images  Instances          P          R      mAP50   \n",
      "                   all        858       1251      0.902      0.964      0.969      0.699\n",
      "\n",
      "      Epoch    GPU_mem   box_loss   obj_loss   cls_loss  Instances       Size\n",
      "      32/74      1.71G    0.03052    0.01045   0.004804          7        640: 1\n",
      "                 Class     Images  Instances          P          R      mAP50   \n",
      "                   all        858       1251      0.931      0.969      0.975      0.631\n",
      "\n",
      "      Epoch    GPU_mem   box_loss   obj_loss   cls_loss  Instances       Size\n",
      "      33/74      1.71G    0.03051    0.01034   0.004932          6        640: 1\n",
      "                 Class     Images  Instances          P          R      mAP50   \n",
      "                   all        858       1251      0.947      0.925      0.975      0.658\n",
      "\n",
      "      Epoch    GPU_mem   box_loss   obj_loss   cls_loss  Instances       Size\n",
      "      34/74      1.71G    0.03042    0.01077   0.004948          8        640: 1\n",
      "                 Class     Images  Instances          P          R      mAP50   \n",
      "                   all        858       1251      0.907      0.931      0.975      0.712\n",
      "\n",
      "      Epoch    GPU_mem   box_loss   obj_loss   cls_loss  Instances       Size\n",
      "      35/74      1.71G    0.03014    0.01018   0.004747          6        640: 1\n",
      "                 Class     Images  Instances          P          R      mAP50   \n",
      "                   all        858       1251      0.933      0.981      0.985      0.701\n",
      "\n",
      "      Epoch    GPU_mem   box_loss   obj_loss   cls_loss  Instances       Size\n",
      "      36/74      1.71G    0.02946    0.01024   0.004495          2        640: 1\n",
      "                 Class     Images  Instances          P          R      mAP50   \n",
      "                   all        858       1251      0.944      0.962      0.981      0.727\n",
      "\n",
      "      Epoch    GPU_mem   box_loss   obj_loss   cls_loss  Instances       Size\n",
      "      37/74      1.71G    0.02825    0.00948   0.004551          3        640: 1\n",
      "                 Class     Images  Instances          P          R      mAP50   \n",
      "                   all        858       1251      0.938      0.968      0.983      0.728\n",
      "\n",
      "      Epoch    GPU_mem   box_loss   obj_loss   cls_loss  Instances       Size\n",
      "      38/74      1.71G    0.02913   0.009929    0.00439          7        640: 1\n",
      "                 Class     Images  Instances          P          R      mAP50   \n",
      "                   all        858       1251       0.95      0.962      0.977      0.695\n",
      "\n",
      "      Epoch    GPU_mem   box_loss   obj_loss   cls_loss  Instances       Size\n",
      "      39/74      1.71G    0.02869   0.009971   0.004671          3        640: 1\n",
      "                 Class     Images  Instances          P          R      mAP50   \n",
      "                   all        858       1251      0.951      0.957      0.984      0.711\n",
      "\n",
      "      Epoch    GPU_mem   box_loss   obj_loss   cls_loss  Instances       Size\n",
      "      40/74      1.71G    0.02711   0.009513    0.00405          3        640: 1\n",
      "                 Class     Images  Instances          P          R      mAP50   \n",
      "                   all        858       1251      0.932      0.964      0.981      0.731\n",
      "\n",
      "      Epoch    GPU_mem   box_loss   obj_loss   cls_loss  Instances       Size\n",
      "      41/74      1.71G     0.0275   0.009663   0.004345          2        640: 1\n",
      "                 Class     Images  Instances          P          R      mAP50   \n",
      "                   all        858       1251      0.948      0.969      0.984      0.715\n",
      "\n",
      "      Epoch    GPU_mem   box_loss   obj_loss   cls_loss  Instances       Size\n",
      "      42/74      1.71G    0.02733   0.009334   0.004224          5        640: 1\n",
      "                 Class     Images  Instances          P          R      mAP50   \n",
      "                   all        858       1251      0.945      0.953      0.984      0.733\n",
      "\n",
      "      Epoch    GPU_mem   box_loss   obj_loss   cls_loss  Instances       Size\n",
      "      43/74      1.71G    0.02676   0.009468   0.004415          3        640: 1\n",
      "                 Class     Images  Instances          P          R      mAP50   \n",
      "                   all        858       1251      0.929       0.97      0.978      0.755\n",
      "\n",
      "      Epoch    GPU_mem   box_loss   obj_loss   cls_loss  Instances       Size\n",
      "      44/74      1.71G    0.02604   0.009389   0.003873          4        640: 1\n",
      "                 Class     Images  Instances          P          R      mAP50   \n",
      "                   all        858       1251      0.925      0.971      0.984      0.764\n",
      "\n",
      "      Epoch    GPU_mem   box_loss   obj_loss   cls_loss  Instances       Size\n",
      "      45/74      1.71G    0.02536   0.009049   0.004119          5        640: 1\n",
      "                 Class     Images  Instances          P          R      mAP50   \n",
      "                   all        858       1251      0.947      0.953      0.981      0.756\n",
      "\n",
      "      Epoch    GPU_mem   box_loss   obj_loss   cls_loss  Instances       Size\n",
      "      46/74      1.71G    0.02606   0.009159   0.004072          8        640: 1\n",
      "                 Class     Images  Instances          P          R      mAP50   \n",
      "                   all        858       1251      0.945      0.976      0.983      0.758\n",
      "\n",
      "      Epoch    GPU_mem   box_loss   obj_loss   cls_loss  Instances       Size\n",
      "      47/74      1.71G     0.0253   0.009108   0.003806          5        640: 1\n",
      "                 Class     Images  Instances          P          R      mAP50   \n",
      "                   all        858       1251      0.939      0.968      0.985      0.748\n",
      "\n",
      "      Epoch    GPU_mem   box_loss   obj_loss   cls_loss  Instances       Size\n",
      "      48/74      1.71G     0.0249   0.009043   0.003851          9        640: 1\n",
      "                 Class     Images  Instances          P          R      mAP50   \n",
      "                   all        858       1251      0.964      0.959      0.988      0.772\n",
      "\n",
      "      Epoch    GPU_mem   box_loss   obj_loss   cls_loss  Instances       Size\n",
      "      49/74      1.71G    0.02574   0.008807   0.004257          9        640: 1\n",
      "                 Class     Images  Instances          P          R      mAP50   \n",
      "                   all        858       1251       0.97      0.985      0.991      0.761\n",
      "\n",
      "      Epoch    GPU_mem   box_loss   obj_loss   cls_loss  Instances       Size\n",
      "      50/74      1.71G    0.02467    0.00858   0.003847          4        640: 1\n",
      "                 Class     Images  Instances          P          R      mAP50   \n",
      "                   all        858       1251      0.952       0.97      0.987      0.744\n",
      "\n",
      "      Epoch    GPU_mem   box_loss   obj_loss   cls_loss  Instances       Size\n",
      "      51/74      1.71G    0.02462   0.009068   0.003832          5        640: 1\n",
      "                 Class     Images  Instances          P          R      mAP50   \n",
      "                   all        858       1251      0.968      0.953      0.988       0.79\n",
      "\n",
      "      Epoch    GPU_mem   box_loss   obj_loss   cls_loss  Instances       Size\n",
      "      52/74      1.71G    0.02386   0.008376   0.003715          4        640: 1\n",
      "                 Class     Images  Instances          P          R      mAP50   \n",
      "                   all        858       1251       0.97      0.964      0.987      0.777\n",
      "\n",
      "      Epoch    GPU_mem   box_loss   obj_loss   cls_loss  Instances       Size\n",
      "      53/74      1.71G      0.023   0.008492    0.00334          5        640: 1\n",
      "                 Class     Images  Instances          P          R      mAP50   \n",
      "                   all        858       1251      0.978      0.937      0.988      0.786\n",
      "\n",
      "      Epoch    GPU_mem   box_loss   obj_loss   cls_loss  Instances       Size\n",
      "      54/74      1.71G    0.02323   0.008486   0.003934          4        640: 1\n",
      "                 Class     Images  Instances          P          R      mAP50   \n",
      "                   all        858       1251      0.961       0.96      0.989      0.791\n",
      "\n",
      "      Epoch    GPU_mem   box_loss   obj_loss   cls_loss  Instances       Size\n",
      "      55/74      1.71G    0.02247    0.00829   0.003254          7        640: 1\n",
      "                 Class     Images  Instances          P          R      mAP50   \n",
      "                   all        858       1251      0.979      0.958      0.987      0.778\n",
      "\n",
      "      Epoch    GPU_mem   box_loss   obj_loss   cls_loss  Instances       Size\n"
     ]
    },
    {
     "name": "stdout",
     "output_type": "stream",
     "text": [
      "      56/74      1.71G    0.02313   0.008354   0.003835          4        640: 1\n",
      "                 Class     Images  Instances          P          R      mAP50   \n",
      "                   all        858       1251      0.943      0.973      0.987      0.799\n",
      "\n",
      "      Epoch    GPU_mem   box_loss   obj_loss   cls_loss  Instances       Size\n",
      "      57/74      1.71G    0.02233    0.00818    0.00348          3        640: 1\n",
      "                 Class     Images  Instances          P          R      mAP50   \n",
      "                   all        858       1251       0.96      0.989       0.99      0.797\n",
      "\n",
      "      Epoch    GPU_mem   box_loss   obj_loss   cls_loss  Instances       Size\n",
      "      58/74      1.71G    0.02256   0.008057   0.003953          5        640: 1\n",
      "                 Class     Images  Instances          P          R      mAP50   \n",
      "                   all        858       1251      0.978      0.967      0.989      0.798\n",
      "\n",
      "      Epoch    GPU_mem   box_loss   obj_loss   cls_loss  Instances       Size\n",
      "      59/74      1.71G    0.02185   0.007649   0.003522          5        640: 1\n",
      "                 Class     Images  Instances          P          R      mAP50   \n",
      "                   all        858       1251      0.965      0.976      0.988      0.803\n",
      "\n",
      "      Epoch    GPU_mem   box_loss   obj_loss   cls_loss  Instances       Size\n",
      "      60/74      1.71G    0.02205   0.007899   0.003609         10        640: 1\n",
      "                 Class     Images  Instances          P          R      mAP50   \n",
      "                   all        858       1251      0.975       0.98      0.992      0.816\n",
      "\n",
      "      Epoch    GPU_mem   box_loss   obj_loss   cls_loss  Instances       Size\n",
      "      61/74      1.71G    0.02158   0.007843    0.00358          2        640: 1\n",
      "                 Class     Images  Instances          P          R      mAP50   \n",
      "                   all        858       1251       0.98      0.976      0.991      0.809\n",
      "\n",
      "      Epoch    GPU_mem   box_loss   obj_loss   cls_loss  Instances       Size\n",
      "      62/74      1.71G    0.02118   0.007626   0.003198          5        640: 1\n",
      "                 Class     Images  Instances          P          R      mAP50   \n",
      "                   all        858       1251      0.982      0.971      0.992      0.811\n",
      "\n",
      "      Epoch    GPU_mem   box_loss   obj_loss   cls_loss  Instances       Size\n",
      "      63/74      1.71G    0.02002   0.007241   0.003166          6        640: 1\n",
      "                 Class     Images  Instances          P          R      mAP50   \n",
      "                   all        858       1251      0.971      0.984      0.993      0.822\n",
      "\n",
      "      Epoch    GPU_mem   box_loss   obj_loss   cls_loss  Instances       Size\n",
      "      64/74      1.71G    0.02117   0.007652   0.003685          5        640: 1\n",
      "                 Class     Images  Instances          P          R      mAP50   \n",
      "                   all        858       1251      0.973      0.986      0.991      0.807\n",
      "\n",
      "      Epoch    GPU_mem   box_loss   obj_loss   cls_loss  Instances       Size\n",
      "      65/74      1.71G    0.02049   0.007356   0.003517          4        640: 1\n",
      "                 Class     Images  Instances          P          R      mAP50   \n",
      "                   all        858       1251      0.968      0.972      0.986      0.816\n",
      "\n",
      "      Epoch    GPU_mem   box_loss   obj_loss   cls_loss  Instances       Size\n",
      "      66/74      1.71G    0.02038    0.00748   0.003311          6        640: 1\n",
      "                 Class     Images  Instances          P          R      mAP50   \n",
      "                   all        858       1251      0.977      0.979      0.991      0.827\n",
      "\n",
      "      Epoch    GPU_mem   box_loss   obj_loss   cls_loss  Instances       Size\n",
      "      67/74      1.71G    0.01986   0.007277    0.00311          3        640: 1\n",
      "                 Class     Images  Instances          P          R      mAP50   \n",
      "                   all        858       1251      0.955       0.97      0.983       0.82\n",
      "\n",
      "      Epoch    GPU_mem   box_loss   obj_loss   cls_loss  Instances       Size\n",
      "      68/74      1.71G    0.01896   0.007063   0.002959          2        640: 1\n",
      "                 Class     Images  Instances          P          R      mAP50   \n",
      "                   all        858       1251      0.971      0.993      0.993      0.839\n",
      "\n",
      "      Epoch    GPU_mem   box_loss   obj_loss   cls_loss  Instances       Size\n",
      "      69/74      1.71G    0.01945   0.007083   0.003169         11        640: 1\n",
      "                 Class     Images  Instances          P          R      mAP50   \n",
      "                   all        858       1251      0.972      0.977      0.991      0.836\n",
      "\n",
      "      Epoch    GPU_mem   box_loss   obj_loss   cls_loss  Instances       Size\n",
      "      70/74      1.71G    0.01813   0.006966   0.002709          5        640: 1\n",
      "                 Class     Images  Instances          P          R      mAP50   \n",
      "                   all        858       1251      0.988      0.963      0.991      0.838\n",
      "\n",
      "      Epoch    GPU_mem   box_loss   obj_loss   cls_loss  Instances       Size\n",
      "      71/74      1.71G    0.01844   0.006935   0.002861          6        640: 1\n",
      "                 Class     Images  Instances          P          R      mAP50   \n",
      "                   all        858       1251      0.986      0.969       0.99       0.84\n",
      "\n",
      "      Epoch    GPU_mem   box_loss   obj_loss   cls_loss  Instances       Size\n",
      "      72/74      1.71G    0.01868   0.006743   0.003107          2        640: 1\n",
      "                 Class     Images  Instances          P          R      mAP50   \n",
      "                   all        858       1251      0.985      0.973      0.991      0.841\n",
      "\n",
      "      Epoch    GPU_mem   box_loss   obj_loss   cls_loss  Instances       Size\n",
      "      73/74      1.71G    0.01756    0.00661   0.002653          2        640: 1\n",
      "                 Class     Images  Instances          P          R      mAP50   \n",
      "                   all        858       1251      0.985      0.981      0.992      0.844\n",
      "\n",
      "      Epoch    GPU_mem   box_loss   obj_loss   cls_loss  Instances       Size\n",
      "      74/74      1.71G    0.01751   0.006287   0.002697          3        640: 1\n",
      "                 Class     Images  Instances          P          R      mAP50   \n",
      "                   all        858       1251      0.982      0.978      0.993      0.846\n",
      "\n",
      "75 epochs completed in 0.190 hours.\n",
      "Optimizer stripped from yolov5/runs/train/exp7/weights/last.pt, 14.4MB\n",
      "Optimizer stripped from yolov5/runs/train/exp7/weights/best.pt, 14.4MB\n",
      "\n",
      "Validating yolov5/runs/train/exp7/weights/best.pt...\n",
      "Fusing layers... \n",
      "Model summary: 157 layers, 7023610 parameters, 0 gradients, 15.8 GFLOPs\n",
      "                 Class     Images  Instances          P          R      mAP50   \n",
      "                   all        858       1251      0.982      0.978      0.993      0.846\n",
      "                 Close        858         51      0.991       0.98      0.995       0.76\n",
      "              Continue        858        816      0.996      0.996      0.995      0.917\n",
      "            GoogleAuth        858         87      0.934      0.981      0.993      0.816\n",
      "            loginfield        858        123      0.991      0.976      0.989      0.872\n",
      "         passwordfield        858        174          1      0.954      0.995      0.863\n",
      "Results saved to \u001b[1myolov5/runs/train/exp7\u001b[0m\n"
     ]
    }
   ],
   "source": [
    "# Train YOLOv5s on COCO128 for 3 epochs\n",
    "!python yolov5/train.py --img 640 --batch 8 --epochs 75 --data coco128.yaml --weights yolov5s.pt --cache ram"
   ]
  },
  {
   "cell_type": "markdown",
   "metadata": {
    "id": "15glLzbQx5u0"
   },
   "source": [
    "# 4. Visualize"
   ]
  },
  {
   "cell_type": "markdown",
   "metadata": {
    "id": "nWOsI5wJR1o3"
   },
   "source": [
    "## Comet Logging and Visualization 🌟 NEW\n",
    "[Comet](https://bit.ly/yolov5-readme-comet) is now fully integrated with YOLOv5. Track and visualize model metrics in real time, save your hyperparameters, datasets, and model checkpoints, and visualize your model predictions with [Comet Custom Panels](https://bit.ly/yolov5-colab-comet-panels)! Comet makes sure you never lose track of your work and makes it easy to share results and collaborate across teams of all sizes! \n",
    "\n",
    "Getting started is easy:\n",
    "```shell\n",
    "pip install comet_ml  # 1. install\n",
    "export COMET_API_KEY=<Your API Key>  # 2. paste API key\n",
    "python train.py --img 640 --epochs 3 --data coco128.yaml --weights yolov5s.pt  # 3. train\n",
    "```\n",
    "\n",
    "To learn more about all of the supported Comet features for this integration, check out the [Comet Tutorial](https://github.com/ultralytics/yolov5/tree/master/utils/loggers/comet). If you'd like to learn more about Comet, head over to our [documentation](https://bit.ly/yolov5-colab-comet-docs). Get started by trying out the Comet Colab Notebook:\n",
    "[![Open In Colab](https://colab.research.google.com/assets/colab-badge.svg)](https://colab.research.google.com/drive/1RG0WOQyxlDlo5Km8GogJpIEJlg_5lyYO?usp=sharing)\n",
    "\n",
    "<img width=\"1920\" alt=\"yolo-ui\" src=\"https://user-images.githubusercontent.com/26833433/202851203-164e94e1-2238-46dd-91f8-de020e9d6b41.png\">"
   ]
  },
  {
   "cell_type": "markdown",
   "metadata": {
    "id": "Lay2WsTjNJzP"
   },
   "source": [
    "## ClearML Logging and Automation 🌟 NEW\n",
    "\n",
    "[ClearML](https://cutt.ly/yolov5-notebook-clearml) is completely integrated into YOLOv5 to track your experimentation, manage dataset versions and even remotely execute training runs. To enable ClearML (check cells above):\n",
    "\n",
    "- `pip install clearml`\n",
    "- run `clearml-init` to connect to a ClearML server (**deploy your own [open-source server](https://github.com/allegroai/clearml-server)**, or use our [free hosted server](https://cutt.ly/yolov5-notebook-clearml))\n",
    "\n",
    "You'll get all the great expected features from an experiment manager: live updates, model upload, experiment comparison etc. but ClearML also tracks uncommitted changes and installed packages for example. Thanks to that ClearML Tasks (which is what we call experiments) are also reproducible on different machines! With only 1 extra line, we can schedule a YOLOv5 training task on a queue to be executed by any number of ClearML Agents (workers).\n",
    "\n",
    "You can use ClearML Data to version your dataset and then pass it to YOLOv5 simply using its unique ID. This will help you keep track of your data without adding extra hassle. Explore the [ClearML Tutorial](https://github.com/ultralytics/yolov5/tree/master/utils/loggers/clearml) for details!\n",
    "\n",
    "<a href=\"https://cutt.ly/yolov5-notebook-clearml\">\n",
    "<img alt=\"ClearML Experiment Management UI\" src=\"https://github.com/thepycoder/clearml_screenshots/raw/main/scalars.jpg\" width=\"1280\"/></a>"
   ]
  },
  {
   "cell_type": "markdown",
   "metadata": {},
   "source": []
  },
  {
   "cell_type": "markdown",
   "metadata": {
    "id": "-WPvRbS5Swl6"
   },
   "source": [
    "## Local Logging\n",
    "\n",
    "Training results are automatically logged with [Tensorboard](https://www.tensorflow.org/tensorboard) and [CSV](https://github.com/ultralytics/yolov5/pull/4148) loggers to `runs/train`, with a new experiment directory created for each new training as `runs/train/exp2`, `runs/train/exp3`, etc.\n",
    "\n",
    "This directory contains train and val statistics, mosaics, labels, predictions and augmentated mosaics, as well as metrics and charts including precision-recall (PR) curves and confusion matrices. \n",
    "\n",
    "<img alt=\"Local logging results\" src=\"https://user-images.githubusercontent.com/26833433/183222430-e1abd1b7-782c-4cde-b04d-ad52926bf818.jpg\" width=\"1280\"/>\n"
   ]
  },
  {
   "cell_type": "markdown",
   "metadata": {
    "id": "Zelyeqbyt3GD"
   },
   "source": [
    "# Environments\n",
    "\n",
    "YOLOv5 may be run in any of the following up-to-date verified environments (with all dependencies including [CUDA](https://developer.nvidia.com/cuda)/[CUDNN](https://developer.nvidia.com/cudnn), [Python](https://www.python.org/) and [PyTorch](https://pytorch.org/) preinstalled):\n",
    "\n",
    "- **Notebooks** with free GPU: <a href=\"https://bit.ly/yolov5-paperspace-notebook\"><img src=\"https://assets.paperspace.io/img/gradient-badge.svg\" alt=\"Run on Gradient\"></a> <a href=\"https://colab.research.google.com/github/ultralytics/yolov5/blob/master/tutorial.ipynb\"><img src=\"https://colab.research.google.com/assets/colab-badge.svg\" alt=\"Open In Colab\"></a> <a href=\"https://www.kaggle.com/ultralytics/yolov5\"><img src=\"https://kaggle.com/static/images/open-in-kaggle.svg\" alt=\"Open In Kaggle\"></a>\n",
    "- **Google Cloud** Deep Learning VM. See [GCP Quickstart Guide](https://github.com/ultralytics/yolov5/wiki/GCP-Quickstart)\n",
    "- **Amazon** Deep Learning AMI. See [AWS Quickstart Guide](https://github.com/ultralytics/yolov5/wiki/AWS-Quickstart)\n",
    "- **Docker Image**. See [Docker Quickstart Guide](https://github.com/ultralytics/yolov5/wiki/Docker-Quickstart) <a href=\"https://hub.docker.com/r/ultralytics/yolov5\"><img src=\"https://img.shields.io/docker/pulls/ultralytics/yolov5?logo=docker\" alt=\"Docker Pulls\"></a>\n"
   ]
  },
  {
   "cell_type": "markdown",
   "metadata": {
    "id": "6Qu7Iesl0p54"
   },
   "source": [
    "# Status\n",
    "\n",
    "![YOLOv5 CI](https://github.com/ultralytics/yolov5/actions/workflows/ci-testing.yml/badge.svg)\n",
    "\n",
    "If this badge is green, all [YOLOv5 GitHub Actions](https://github.com/ultralytics/yolov5/actions) Continuous Integration (CI) tests are currently passing. CI tests verify correct operation of YOLOv5 training ([train.py](https://github.com/ultralytics/yolov5/blob/master/train.py)), testing ([val.py](https://github.com/ultralytics/yolov5/blob/master/val.py)), inference ([detect.py](https://github.com/ultralytics/yolov5/blob/master/detect.py)) and export ([export.py](https://github.com/ultralytics/yolov5/blob/master/export.py)) on macOS, Windows, and Ubuntu every 24 hours and on every commit.\n"
   ]
  },
  {
   "cell_type": "markdown",
   "metadata": {
    "id": "IEijrePND_2I"
   },
   "source": [
    "# Appendix\n",
    "\n",
    "Additional content below."
   ]
  },
  {
   "cell_type": "code",
   "execution_count": null,
   "metadata": {
    "id": "GMusP4OAxFu6"
   },
   "outputs": [],
   "source": [
    "# YOLOv5 PyTorch HUB Inference (DetectionModels only)\n",
    "import torch\n",
    "\n",
    "model = torch.hub.load('ultralytics/yolov5', 'yolov5s-seg')  # yolov5n - yolov5x6 or custom\n",
    "im = 'https://ultralytics.com/images/zidane.jpg'  # file, Path, PIL.Image, OpenCV, nparray, list\n",
    "results = model(im)  # inference\n",
    "results.print()  # or .show(), .save(), .crop(), .pandas(), etc."
   ]
  }
 ],
 "metadata": {
  "accelerator": "GPU",
  "colab": {
   "name": "YOLOv5 Segmentation Tutorial",
   "provenance": [],
   "toc_visible": true
  },
  "kernelspec": {
   "display_name": "Python 3 (ipykernel)",
   "language": "python",
   "name": "python3"
  },
  "language_info": {
   "codemirror_mode": {
    "name": "ipython",
    "version": 3
   },
   "file_extension": ".py",
   "mimetype": "text/x-python",
   "name": "python",
   "nbconvert_exporter": "python",
   "pygments_lexer": "ipython3",
   "version": "3.8.10"
  }
 },
 "nbformat": 4,
 "nbformat_minor": 1
}
