{
 "cells": [
  {
   "cell_type": "markdown",
   "metadata": {
    "id": "t6MPjfT5NrKQ"
   },
   "source": [
    "<div align=\"center\">\n",
    "\n",
    "  <a href=\"https://ultralytics.com/yolov5\" target=\"_blank\">\n",
    "    <img width=\"1024\", src=\"https://raw.githubusercontent.com/ultralytics/assets/master/yolov5/v70/splash.png\"></a>\n",
    "\n",
    "\n",
    "<br>\n",
    "  <a href=\"https://bit.ly/yolov5-paperspace-notebook\"><img src=\"https://assets.paperspace.io/img/gradient-badge.svg\" alt=\"Run on Gradient\"></a>\n",
    "  <a href=\"https://colab.research.google.com/github/ultralytics/yolov5/blob/master/segment/tutorial.ipynb\"><img src=\"https://colab.research.google.com/assets/colab-badge.svg\" alt=\"Open In Colab\"></a>\n",
    "  <a href=\"https://www.kaggle.com/ultralytics/yolov5\"><img src=\"https://kaggle.com/static/images/open-in-kaggle.svg\" alt=\"Open In Kaggle\"></a>\n",
    "<br>\n",
    "\n",
    "This <a href=\"https://github.com/ultralytics/yolov5\">YOLOv5</a> 🚀 notebook by <a href=\"https://ultralytics.com\">Ultralytics</a> presents simple train, validate and predict examples to help start your AI adventure.<br>See <a href=\"https://github.com/ultralytics/yolov5/issues/new/choose\">GitHub</a> for community support or <a href=\"https://ultralytics.com/contact\">contact us</a> for professional support.\n",
    "\n",
    "</div>"
   ]
  },
  {
   "cell_type": "markdown",
   "metadata": {
    "id": "7mGmQbAO5pQb"
   },
   "source": [
    "# Setup\n",
    "\n",
    "Clone GitHub [repository](https://github.com/ultralytics/yolov5), install [dependencies](https://github.com/ultralytics/yolov5/blob/master/requirements.txt) and check PyTorch and GPU."
   ]
  },
  {
   "cell_type": "code",
   "execution_count": 1,
   "metadata": {
    "colab": {
     "base_uri": "https://localhost:8080/"
    },
    "id": "wbvMlHd_QwMG",
    "outputId": "171b23f0-71b9-4cbf-b666-6fa2ecef70c8",
    "scrolled": true
   },
   "outputs": [
    {
     "name": "stderr",
     "output_type": "stream",
     "text": [
      "/home/killuh/ws_p38/appium/lib/python3.8/site-packages/tqdm/auto.py:22: TqdmWarning: IProgress not found. Please update jupyter and ipywidgets. See https://ipywidgets.readthedocs.io/en/stable/user_install.html\n",
      "  from .autonotebook import tqdm as notebook_tqdm\n"
     ]
    }
   ],
   "source": [
    "# !git clone https://github.com/ultralytics/yolov5  # clone\n",
    "# %cd yolov5\n",
    "# %pip install -qr requirements.txt  # install\n",
    "\n",
    "import torch\n",
    "import utils\n",
    "# display = utils.notebook_init()  # checks"
   ]
  },
  {
   "cell_type": "markdown",
   "metadata": {
    "id": "4JnkELT0cIJg"
   },
   "source": [
    "# 1. Predict\n",
    "\n",
    "`segment/predict.py` runs YOLOv5 instance segmentation inference on a variety of sources, downloading models automatically from the [latest YOLOv5 release](https://github.com/ultralytics/yolov5/releases), and saving results to `runs/predict`. Example inference sources are:\n",
    "\n",
    "```shell\n",
    "python segment/predict.py --source 0  # webcam\n",
    "                             img.jpg  # image \n",
    "                             vid.mp4  # video\n",
    "                             screen  # screenshot\n",
    "                             path/  # directory\n",
    "                             'path/*.jpg'  # glob\n",
    "                             'https://youtu.be/Zgi9g1ksQHc'  # YouTube\n",
    "                             'rtsp://example.com/media.mp4'  # RTSP, RTMP, HTTP stream\n",
    "```"
   ]
  },
  {
   "cell_type": "code",
   "execution_count": 1,
   "metadata": {
    "colab": {
     "base_uri": "https://localhost:8080/"
    },
    "collapsed": true,
    "id": "zR9ZbuQCH7FX",
    "outputId": "3f67f1c7-f15e-4fa5-d251-967c3b77eaad"
   },
   "outputs": [
    {
     "name": "stdout",
     "output_type": "stream",
     "text": [
      "\u001b[34m\u001b[1mdetect: \u001b[0mweights=['yolov5/runs/train/exp11/weights/best.pt'], source=yolo_images/test_data/test/3.png, data=yolov5/data/coco128.yaml, imgsz=[640, 640], conf_thres=0.2, iou_thres=0.45, max_det=1000, device=, view_img=False, save_txt=False, save_conf=False, save_crop=False, nosave=False, classes=None, agnostic_nms=False, augment=False, visualize=False, update=False, project=yolov5/runs/detect, name=exp, exist_ok=False, line_thickness=3, hide_labels=False, hide_conf=False, half=False, dnn=False, vid_stride=1\n",
      "opts:  Namespace(agnostic_nms=False, augment=False, classes=None, conf_thres=0.2, data=PosixPath('yolov5/data/coco128.yaml'), device='', dnn=False, exist_ok=False, half=False, hide_conf=False, hide_labels=False, imgsz=[640, 640], iou_thres=0.45, line_thickness=3, max_det=1000, name='exp', nosave=False, project=PosixPath('yolov5/runs/detect'), save_conf=False, save_crop=False, save_txt=False, source='yolo_images/test_data/test/3.png', update=False, vid_stride=1, view_img=False, visualize=False, weights=['yolov5/runs/train/exp11/weights/best.pt'])\n",
      "YOLOv5 🚀 v7.0-33-g1752768 Python-3.8.10 torch-1.13.0+cu117 CUDA:0 (NVIDIA GeForce RTX 3080, 9996MiB)\n",
      "\n",
      "Fusing layers... \n",
      "Model summary: 157 layers, 7020913 parameters, 0 gradients, 15.8 GFLOPs\n",
      "image 1/1 /home/killuh/ws_p38/appium/src/notebooks/yolo_images/test_data/test/3.png: 640x320 (no detections), 10.1ms\n",
      "Speed: 1.4ms pre-process, 10.1ms inference, 8.6ms NMS per image at shape (1, 3, 640, 640)\n",
      "Results saved to \u001b[1myolov5/runs/detect/exp12\u001b[0m\n",
      "Str res:  None\n"
     ]
    }
   ],
   "source": [
    "# After Training with test data, replace --weights with the latest run. \n",
    "# Also, replace --source with image to use to detect objects in  \n",
    "!python yolov5/detect.py --weights yolov5/runs/train/exp11/weights/best.pt --img 640 --conf 0.2 --source yolo_images/test_data/test/3.png\n",
    "# display.Image(filename='yolov5/runs/predict/exp8/1.png', width=600)"
   ]
  },
  {
   "cell_type": "markdown",
   "metadata": {
    "id": "hkAzDWJ7cWTr"
   },
   "source": [
    "&nbsp;&nbsp;&nbsp;&nbsp;&nbsp;&nbsp;&nbsp;&nbsp;\n",
    "<img align=\"left\" src=\"https://user-images.githubusercontent.com/26833433/199030123-08c72f8d-6871-4116-8ed3-c373642cf28e.jpg\" width=\"600\">"
   ]
  },
  {
   "cell_type": "markdown",
   "metadata": {
    "id": "0eq1SMWl6Sfn"
   },
   "source": [
    "# 2. Validate\n",
    "Validate a model's accuracy on the [COCO](https://cocodataset.org/#home) dataset's `val` or `test` splits. Models are downloaded automatically from the [latest YOLOv5 release](https://github.com/ultralytics/yolov5/releases). To show results by class use the `--verbose` flag."
   ]
  },
  {
   "cell_type": "code",
   "execution_count": null,
   "metadata": {
    "colab": {
     "base_uri": "https://localhost:8080/"
    },
    "collapsed": true,
    "id": "WQPtK1QYVaD_",
    "outputId": "9d751d8c-bee8-4339-cf30-9854ca530449"
   },
   "outputs": [
    {
     "name": "stdout",
     "output_type": "stream",
     "text": [
      "Downloading https://github.com/ultralytics/yolov5/releases/download/v1.0/coco2017labels-segments.zip  ...\n",
      "Downloading http://images.cocodataset.org/zips/val2017.zip ...\n",
      "######################################################################## 100.0%\n",
      "######################################################################## 100.0%\n"
     ]
    }
   ],
   "source": [
    "# Download COCO val\n",
    "!bash data/scripts/get_coco.sh --val --segments  # download (780M - 5000 images)"
   ]
  },
  {
   "cell_type": "code",
   "execution_count": null,
   "metadata": {
    "colab": {
     "base_uri": "https://localhost:8080/"
    },
    "collapsed": true,
    "id": "X58w8JLpMnjH",
    "outputId": "a140d67a-02da-479e-9ddb-7d54bf9e407a"
   },
   "outputs": [
    {
     "name": "stdout",
     "output_type": "stream",
     "text": [
      "\u001b[34m\u001b[1msegment/val: \u001b[0mdata=/content/yolov5/data/coco.yaml, weights=['yolov5s-seg.pt'], batch_size=32, imgsz=640, conf_thres=0.001, iou_thres=0.6, max_det=300, task=val, device=, workers=8, single_cls=False, augment=False, verbose=False, save_txt=False, save_hybrid=False, save_conf=False, save_json=False, project=runs/val-seg, name=exp, exist_ok=False, half=True, dnn=False\n",
      "YOLOv5 🚀 v7.0-2-gc9d47ae Python-3.7.15 torch-1.12.1+cu113 CUDA:0 (Tesla T4, 15110MiB)\n",
      "\n",
      "Fusing layers... \n",
      "YOLOv5s-seg summary: 224 layers, 7611485 parameters, 0 gradients, 26.4 GFLOPs\n",
      "\u001b[34m\u001b[1mval: \u001b[0mScanning /content/datasets/coco/val2017... 4952 images, 48 backgrounds, 0 corrupt: 100% 5000/5000 [00:03<00:00, 1361.31it/s]\n",
      "\u001b[34m\u001b[1mval: \u001b[0mNew cache created: /content/datasets/coco/val2017.cache\n",
      "                 Class     Images  Instances      Box(P          R      mAP50  mAP50-95)     Mask(P          R      mAP50  mAP50-95): 100% 157/157 [01:54<00:00,  1.37it/s]\n",
      "                   all       5000      36335      0.673      0.517      0.566      0.373      0.672       0.49      0.532      0.319\n",
      "Speed: 0.6ms pre-process, 4.4ms inference, 2.9ms NMS per image at shape (32, 3, 640, 640)\n",
      "Results saved to \u001b[1mruns/val-seg/exp\u001b[0m\n"
     ]
    }
   ],
   "source": [
    "# Validate YOLOv5s-seg on COCO val\n",
    "!python segment/val.py --weights yolov5s-seg.pt --data coco.yaml --img 640 --half"
   ]
  },
  {
   "cell_type": "markdown",
   "metadata": {
    "id": "ZY2VXXXu74w5"
   },
   "source": [
    "# 3. Train\n",
    "\n",
    "<p align=\"\"><a href=\"https://roboflow.com/?ref=ultralytics\"><img width=\"1000\" src=\"https://github.com/ultralytics/assets/raw/master/im/integrations-loop.png\"/></a></p>\n",
    "Close the active learning loop by sampling images from your inference conditions with the `roboflow` pip package\n",
    "<br><br>\n",
    "\n",
    "Train a YOLOv5s-seg model on the [COCO128](https://www.kaggle.com/ultralytics/coco128) dataset with `--data coco128-seg.yaml`, starting from pretrained `--weights yolov5s-seg.pt`, or from randomly initialized `--weights '' --cfg yolov5s-seg.yaml`.\n",
    "\n",
    "- **Pretrained [Models](https://github.com/ultralytics/yolov5/tree/master/models)** are downloaded\n",
    "automatically from the [latest YOLOv5 release](https://github.com/ultralytics/yolov5/releases)\n",
    "- **[Datasets](https://github.com/ultralytics/yolov5/tree/master/data)** available for autodownload include: [COCO](https://github.com/ultralytics/yolov5/blob/master/data/coco.yaml), [COCO128](https://github.com/ultralytics/yolov5/blob/master/data/coco128.yaml), [VOC](https://github.com/ultralytics/yolov5/blob/master/data/VOC.yaml), [Argoverse](https://github.com/ultralytics/yolov5/blob/master/data/Argoverse.yaml), [VisDrone](https://github.com/ultralytics/yolov5/blob/master/data/VisDrone.yaml), [GlobalWheat](https://github.com/ultralytics/yolov5/blob/master/data/GlobalWheat2020.yaml), [xView](https://github.com/ultralytics/yolov5/blob/master/data/xView.yaml), [Objects365](https://github.com/ultralytics/yolov5/blob/master/data/Objects365.yaml), [SKU-110K](https://github.com/ultralytics/yolov5/blob/master/data/SKU-110K.yaml).\n",
    "- **Training Results** are saved to `runs/train-seg/` with incrementing run directories, i.e. `runs/train-seg/exp2`, `runs/train-seg/exp3` etc.\n",
    "<br><br>\n",
    "\n",
    "A **Mosaic Dataloader** is used for training which combines 4 images into 1 mosaic.\n",
    "\n",
    "## Train on Custom Data with Roboflow 🌟 NEW\n",
    "\n",
    "[Roboflow](https://roboflow.com/?ref=ultralytics) enables you to easily **organize, label, and prepare** a high quality dataset with your own custom data. Roboflow also makes it easy to establish an active learning pipeline, collaborate with your team on dataset improvement, and integrate directly into your model building workflow with the `roboflow` pip package.\n",
    "\n",
    "- Custom Training Example: [https://blog.roboflow.com/train-yolov5-instance-segmentation-custom-dataset/](https://blog.roboflow.com/train-yolov5-instance-segmentation-custom-dataset/?ref=ultralytics)\n",
    "- Custom Training Notebook: [![Open In Colab](https://colab.research.google.com/assets/colab-badge.svg)](https://colab.research.google.com/drive/1JTz7kpmHsg-5qwVz2d2IH3AaenI1tv0N?usp=sharing)\n",
    "<br>\n",
    "\n",
    "<p align=\"\"><a href=\"https://roboflow.com/?ref=ultralytics\"><img width=\"480\" src=\"https://robflow-public-assets.s3.amazonaws.com/how-to-train-yolov5-segmentation-annotation.gif\"/></a></p>Label images lightning fast (including with model-assisted labeling)"
   ]
  },
  {
   "cell_type": "code",
   "execution_count": null,
   "metadata": {
    "id": "i3oKtE4g-aNn"
   },
   "outputs": [],
   "source": [
    "#@title Select YOLOv5 🚀 logger {run: 'auto'}\n",
    "logger = 'TensorBoard' #@param ['TensorBoard', 'Comet', 'ClearML']\n",
    "\n",
    "if logger == 'TensorBoard':\n",
    "  %load_ext tensorboard\n",
    "  %tensorboard --logdir runs/train-seg\n",
    "elif logger == 'Comet':\n",
    "  %pip install -q comet_ml\n",
    "  import comet_ml; comet_ml.init()\n",
    "elif logger == 'ClearML':\n",
    "  import clearml; clearml.browser_login()"
   ]
  },
  {
   "cell_type": "code",
   "execution_count": 2,
   "metadata": {
    "colab": {
     "base_uri": "https://localhost:8080/"
    },
    "id": "1NcFxRcFdJ_O",
    "outputId": "3a3e0cf7-e79c-47a5-c8e7-2d26eeeab988",
    "scrolled": false
   },
   "outputs": [
    {
     "name": "stdout",
     "output_type": "stream",
     "text": [
      "\u001b[34m\u001b[1mtrain: \u001b[0mweights=yolov5s.pt, cfg=, data=coco128.yaml, hyp=yolov5/data/hyps/hyp.scratch-low.yaml, epochs=75, batch_size=8, imgsz=640, rect=False, resume=False, nosave=False, noval=False, noautoanchor=False, noplots=False, evolve=None, bucket=, cache=ram, image_weights=False, device=, multi_scale=False, single_cls=False, optimizer=SGD, sync_bn=False, workers=8, project=yolov5/runs/train, name=exp, exist_ok=False, quad=False, cos_lr=False, label_smoothing=0.0, patience=100, freeze=[0], save_period=-1, seed=0, local_rank=-1, entity=None, upload_dataset=False, bbox_interval=-1, artifact_alias=latest\n",
      "\u001b[34m\u001b[1mgithub: \u001b[0mskipping check (not a git repository), for updates see https://github.com/ultralytics/yolov5\n",
      "YOLOv5 🚀 2023-1-5 Python-3.8.10 torch-1.13.0+cu117 CUDA:0 (NVIDIA GeForce RTX 3080, 9996MiB)\n",
      "\n",
      "\u001b[34m\u001b[1mhyperparameters: \u001b[0mlr0=0.01, lrf=0.01, momentum=0.937, weight_decay=0.0005, warmup_epochs=3.0, warmup_momentum=0.8, warmup_bias_lr=0.1, box=0.05, cls=0.5, cls_pw=1.0, obj=1.0, obj_pw=1.0, iou_t=0.2, anchor_t=4.0, fl_gamma=0.0, hsv_h=0.015, hsv_s=0.7, hsv_v=0.4, degrees=0.0, translate=0.1, scale=0.5, shear=0.0, perspective=0.0, flipud=0.0, fliplr=0.5, mosaic=1.0, mixup=0.0, copy_paste=0.0\n",
      "\u001b[34m\u001b[1mClearML: \u001b[0mrun 'pip install clearml' to automatically track, visualize and remotely train YOLOv5 🚀 in ClearML\n",
      "\u001b[34m\u001b[1mComet: \u001b[0mrun 'pip install comet_ml' to automatically track and visualize YOLOv5 🚀 runs in Comet\n",
      "\u001b[34m\u001b[1mTensorBoard: \u001b[0mStart with 'tensorboard --logdir yolov5/runs/train', view at http://localhost:6006/\n",
      "Overriding model.yaml nc=80 with nc=8\n",
      "\n",
      "                 from  n    params  module                                  arguments                     \n",
      "  0                -1  1      3520  models.common.Conv                      [3, 32, 6, 2, 2]              \n",
      "  1                -1  1     18560  models.common.Conv                      [32, 64, 3, 2]                \n",
      "  2                -1  1     18816  models.common.C3                        [64, 64, 1]                   \n",
      "  3                -1  1     73984  models.common.Conv                      [64, 128, 3, 2]               \n",
      "  4                -1  2    115712  models.common.C3                        [128, 128, 2]                 \n",
      "  5                -1  1    295424  models.common.Conv                      [128, 256, 3, 2]              \n",
      "  6                -1  3    625152  models.common.C3                        [256, 256, 3]                 \n",
      "  7                -1  1   1180672  models.common.Conv                      [256, 512, 3, 2]              \n",
      "  8                -1  1   1182720  models.common.C3                        [512, 512, 1]                 \n",
      "  9                -1  1    656896  models.common.SPPF                      [512, 512, 5]                 \n",
      " 10                -1  1    131584  models.common.Conv                      [512, 256, 1, 1]              \n",
      " 11                -1  1         0  torch.nn.modules.upsampling.Upsample    [None, 2, 'nearest']          \n",
      " 12           [-1, 6]  1         0  models.common.Concat                    [1]                           \n",
      " 13                -1  1    361984  models.common.C3                        [512, 256, 1, False]          \n",
      " 14                -1  1     33024  models.common.Conv                      [256, 128, 1, 1]              \n",
      " 15                -1  1         0  torch.nn.modules.upsampling.Upsample    [None, 2, 'nearest']          \n",
      " 16           [-1, 4]  1         0  models.common.Concat                    [1]                           \n",
      " 17                -1  1     90880  models.common.C3                        [256, 128, 1, False]          \n",
      " 18                -1  1    147712  models.common.Conv                      [128, 128, 3, 2]              \n",
      " 19          [-1, 14]  1         0  models.common.Concat                    [1]                           \n",
      " 20                -1  1    296448  models.common.C3                        [256, 256, 1, False]          \n",
      " 21                -1  1    590336  models.common.Conv                      [256, 256, 3, 2]              \n",
      " 22          [-1, 10]  1         0  models.common.Concat                    [1]                           \n",
      " 23                -1  1   1182720  models.common.C3                        [512, 512, 1, False]          \n",
      " 24      [17, 20, 23]  1     35061  models.yolo.Detect                      [8, [[10, 13, 16, 30, 33, 23], [30, 61, 62, 45, 59, 119], [116, 90, 156, 198, 373, 326]], [128, 256, 512]]\n",
      "Model summary: 214 layers, 7041205 parameters, 7041205 gradients, 16.0 GFLOPs\n",
      "\n",
      "Transferred 343/349 items from yolov5s.pt\n",
      "\u001b[34m\u001b[1mAMP: \u001b[0mchecks passed ✅\n",
      "\u001b[34m\u001b[1moptimizer:\u001b[0m SGD(lr=0.01) with parameter groups 57 weight(decay=0.0), 60 weight(decay=0.0005), 60 bias\n",
      "\u001b[34m\u001b[1mtrain: \u001b[0mScanning /home/killuh/ws_p38/appium/src/notebooks/yolo_images/train_data/\u001b[0m\n",
      "\u001b[34m\u001b[1mtrain: \u001b[0mNew cache created: /home/killuh/ws_p38/appium/src/notebooks/yolo_images/train_data/labels.cache\n",
      "\u001b[34m\u001b[1mtrain: \u001b[0mCaching images (1.8GB ram): 100%|██████████| 2581/2581 [00:00<00:00, 4360\u001b[0m\n",
      "\u001b[34m\u001b[1mval: \u001b[0mScanning /home/killuh/ws_p38/appium/src/notebooks/yolo_images/train_data/la\u001b[0m\n",
      "\u001b[34m\u001b[1mval: \u001b[0mCaching images (1.8GB ram): 100%|██████████| 2581/2581 [00:00<00:00, 3028.9\u001b[0m\n",
      "\n",
      "\u001b[34m\u001b[1mAutoAnchor: \u001b[0m2.86 anchors/target, 0.985 Best Possible Recall (BPR). Current anchors are a good fit to dataset ✅\n",
      "Plotting labels to yolov5/runs/train/exp9/labels.jpg... \n",
      "Image sizes 640 train, 640 val\n",
      "Using 8 dataloader workers\n",
      "Logging results to \u001b[1myolov5/runs/train/exp9\u001b[0m\n",
      "Starting training for 75 epochs...\n",
      "\n",
      "      Epoch    GPU_mem   box_loss   obj_loss   cls_loss  Instances       Size\n",
      "       0/74      1.83G     0.0962    0.02207    0.04441         19        640: 1\n",
      "                 Class     Images  Instances          P          R      mAP50   \n",
      "                   all       2581       5637      0.557     0.0692     0.0433     0.0162\n",
      "\n",
      "      Epoch    GPU_mem   box_loss   obj_loss   cls_loss  Instances       Size\n",
      "       1/74      1.83G    0.06831    0.01899    0.02986         20        640: 1\n",
      "                 Class     Images  Instances          P          R      mAP50   \n",
      "                   all       2581       5637      0.714      0.174     0.0936     0.0347\n",
      "\n",
      "      Epoch    GPU_mem   box_loss   obj_loss   cls_loss  Instances       Size\n",
      "       2/74      1.83G    0.06299    0.01679    0.02486         22        640: 1\n",
      "                 Class     Images  Instances          P          R      mAP50   \n",
      "                   all       2581       5637      0.464      0.226      0.157     0.0495\n",
      "\n",
      "      Epoch    GPU_mem   box_loss   obj_loss   cls_loss  Instances       Size\n",
      "       3/74      1.83G    0.05855    0.01531     0.0206         15        640: 1\n",
      "                 Class     Images  Instances          P          R      mAP50   \n",
      "                   all       2581       5637      0.608      0.349      0.326      0.154\n",
      "\n",
      "      Epoch    GPU_mem   box_loss   obj_loss   cls_loss  Instances       Size\n",
      "       4/74      1.83G    0.05437     0.0145    0.01705         13        640: 1\n",
      "                 Class     Images  Instances          P          R      mAP50   \n",
      "                   all       2581       5637      0.683      0.419      0.405      0.166\n",
      "\n",
      "      Epoch    GPU_mem   box_loss   obj_loss   cls_loss  Instances       Size\n",
      "       5/74      1.83G    0.05095    0.01388    0.01463         13        640: 1\n",
      "                 Class     Images  Instances          P          R      mAP50   \n",
      "                   all       2581       5637      0.717      0.461      0.442      0.209\n",
      "\n",
      "      Epoch    GPU_mem   box_loss   obj_loss   cls_loss  Instances       Size\n",
      "       6/74      1.83G    0.04875     0.0131    0.01238          9        640: 1\n",
      "                 Class     Images  Instances          P          R      mAP50   \n",
      "                   all       2581       5637      0.715      0.483      0.464      0.241\n",
      "\n",
      "      Epoch    GPU_mem   box_loss   obj_loss   cls_loss  Instances       Size\n",
      "       7/74      1.83G    0.04739     0.0128    0.01108         21        640: 1\n",
      "                 Class     Images  Instances          P          R      mAP50   \n",
      "                   all       2581       5637      0.793      0.484      0.509       0.29\n"
     ]
    },
    {
     "name": "stdout",
     "output_type": "stream",
     "text": [
      "\n",
      "      Epoch    GPU_mem   box_loss   obj_loss   cls_loss  Instances       Size\n",
      "       8/74      1.83G    0.04525    0.01246    0.01001         13        640: 1\n",
      "                 Class     Images  Instances          P          R      mAP50   \n",
      "                   all       2581       5637      0.768      0.509      0.522      0.293\n",
      "\n",
      "      Epoch    GPU_mem   box_loss   obj_loss   cls_loss  Instances       Size\n",
      "       9/74      1.83G    0.04452    0.01241   0.009415          9        640: 1\n",
      "                 Class     Images  Instances          P          R      mAP50   \n",
      "                   all       2581       5637      0.788      0.522      0.539       0.31\n",
      "\n",
      "      Epoch    GPU_mem   box_loss   obj_loss   cls_loss  Instances       Size\n",
      "      10/74      1.83G    0.04374    0.01214   0.008561         12        640: 1\n",
      "                 Class     Images  Instances          P          R      mAP50   \n",
      "                   all       2581       5637      0.827      0.544      0.573      0.314\n",
      "\n",
      "      Epoch    GPU_mem   box_loss   obj_loss   cls_loss  Instances       Size\n",
      "      11/74      1.83G    0.04269    0.01194   0.008169         25        640: 1\n",
      "                 Class     Images  Instances          P          R      mAP50   \n",
      "                   all       2581       5637      0.787      0.571      0.552      0.319\n",
      "\n",
      "      Epoch    GPU_mem   box_loss   obj_loss   cls_loss  Instances       Size\n",
      "      12/74      1.83G    0.04205    0.01157   0.007494         16        640: 1\n",
      "                 Class     Images  Instances          P          R      mAP50   \n",
      "                   all       2581       5637      0.814      0.553      0.579      0.348\n",
      "\n",
      "      Epoch    GPU_mem   box_loss   obj_loss   cls_loss  Instances       Size\n",
      "      13/74      1.83G    0.04127    0.01156   0.007831         16        640: 1\n",
      "                 Class     Images  Instances          P          R      mAP50   \n",
      "                   all       2581       5637      0.813      0.573      0.583       0.34\n",
      "\n",
      "      Epoch    GPU_mem   box_loss   obj_loss   cls_loss  Instances       Size\n",
      "      14/74      1.83G     0.0404    0.01148   0.006987         23        640: 1\n",
      "                 Class     Images  Instances          P          R      mAP50   \n",
      "                   all       2581       5637      0.846      0.564      0.613      0.389\n",
      "\n",
      "      Epoch    GPU_mem   box_loss   obj_loss   cls_loss  Instances       Size\n",
      "      15/74      1.83G    0.03962    0.01132   0.006473         17        640: 1\n",
      "                 Class     Images  Instances          P          R      mAP50   \n",
      "                   all       2581       5637      0.843      0.574      0.615      0.382\n",
      "\n",
      "      Epoch    GPU_mem   box_loss   obj_loss   cls_loss  Instances       Size\n",
      "      16/74      1.83G    0.03918    0.01135   0.007186         22        640: 1\n",
      "                 Class     Images  Instances          P          R      mAP50   \n",
      "                   all       2581       5637      0.861      0.568      0.609      0.391\n",
      "\n",
      "      Epoch    GPU_mem   box_loss   obj_loss   cls_loss  Instances       Size\n",
      "      17/74      1.83G    0.03893    0.01071   0.006541         17        640: 1\n",
      "                 Class     Images  Instances          P          R      mAP50   \n",
      "                   all       2581       5637      0.863      0.588      0.612      0.394\n",
      "\n",
      "      Epoch    GPU_mem   box_loss   obj_loss   cls_loss  Instances       Size\n",
      "      18/74      1.83G    0.03792    0.01081   0.005996         25        640: 1\n",
      "                 Class     Images  Instances          P          R      mAP50   \n",
      "                   all       2581       5637       0.87      0.591      0.625      0.408\n",
      "\n",
      "      Epoch    GPU_mem   box_loss   obj_loss   cls_loss  Instances       Size\n",
      "      19/74      1.83G    0.03725    0.01052   0.006299         21        640: 1\n",
      "                 Class     Images  Instances          P          R      mAP50   \n",
      "                   all       2581       5637      0.846      0.585      0.621      0.403\n",
      "\n",
      "      Epoch    GPU_mem   box_loss   obj_loss   cls_loss  Instances       Size\n",
      "      20/74      1.83G     0.0373    0.01055   0.006037         22        640: 1\n",
      "                 Class     Images  Instances          P          R      mAP50   \n",
      "                   all       2581       5637      0.864      0.601      0.623      0.413\n",
      "\n",
      "      Epoch    GPU_mem   box_loss   obj_loss   cls_loss  Instances       Size\n",
      "      21/74      1.83G    0.03669    0.01033   0.005493         16        640: 1\n",
      "                 Class     Images  Instances          P          R      mAP50   \n",
      "                   all       2581       5637      0.879      0.615      0.635      0.425\n",
      "\n",
      "      Epoch    GPU_mem   box_loss   obj_loss   cls_loss  Instances       Size\n",
      "      22/74      1.83G    0.03651    0.01028   0.005666         19        640: 1\n",
      "                 Class     Images  Instances          P          R      mAP50   \n",
      "                   all       2581       5637      0.844      0.608      0.692      0.465\n",
      "\n",
      "      Epoch    GPU_mem   box_loss   obj_loss   cls_loss  Instances       Size\n",
      "      23/74      1.83G    0.03599     0.0101    0.00535         16        640: 1\n",
      "                 Class     Images  Instances          P          R      mAP50   \n",
      "                   all       2581       5637      0.877      0.605      0.666       0.46\n",
      "\n",
      "      Epoch    GPU_mem   box_loss   obj_loss   cls_loss  Instances       Size\n",
      "      24/74      1.83G    0.03542    0.01011   0.005453         16        640: 1\n",
      "                 Class     Images  Instances          P          R      mAP50   \n",
      "                   all       2581       5637      0.888      0.611      0.642      0.437\n",
      "\n",
      "      Epoch    GPU_mem   box_loss   obj_loss   cls_loss  Instances       Size\n",
      "      25/74      1.83G    0.03511   0.009983   0.005039         31        640: 1\n",
      "                 Class     Images  Instances          P          R      mAP50   \n",
      "                   all       2581       5637      0.889      0.618       0.65      0.457\n",
      "\n",
      "      Epoch    GPU_mem   box_loss   obj_loss   cls_loss  Instances       Size\n",
      "      26/74      1.83G    0.03424   0.009548   0.005178         15        640: 1\n",
      "                 Class     Images  Instances          P          R      mAP50   \n",
      "                   all       2581       5637      0.891      0.612      0.711      0.503\n",
      "\n",
      "      Epoch    GPU_mem   box_loss   obj_loss   cls_loss  Instances       Size\n",
      "      27/74      1.83G    0.03403   0.009379   0.004981         15        640: 1\n",
      "                 Class     Images  Instances          P          R      mAP50   \n",
      "                   all       2581       5637      0.907      0.628       0.73      0.516\n",
      "\n",
      "      Epoch    GPU_mem   box_loss   obj_loss   cls_loss  Instances       Size\n",
      "      28/74      1.83G    0.03419   0.009837   0.004879         26        640: 1\n",
      "                 Class     Images  Instances          P          R      mAP50   \n",
      "                   all       2581       5637      0.891      0.627      0.703      0.498\n",
      "\n",
      "      Epoch    GPU_mem   box_loss   obj_loss   cls_loss  Instances       Size\n",
      "      29/74      1.83G     0.0333   0.009435   0.004937         21        640: 1\n",
      "                 Class     Images  Instances          P          R      mAP50   \n",
      "                   all       2581       5637      0.896      0.621      0.728      0.483\n",
      "\n",
      "      Epoch    GPU_mem   box_loss   obj_loss   cls_loss  Instances       Size\n",
      "      30/74      1.83G    0.03283   0.009449   0.004566         33        640: 1\n",
      "                 Class     Images  Instances          P          R      mAP50   \n",
      "                   all       2581       5637      0.905      0.618      0.658      0.463\n",
      "\n",
      "      Epoch    GPU_mem   box_loss   obj_loss   cls_loss  Instances       Size\n",
      "      31/74      1.83G    0.03305   0.009236   0.004294         13        640: 1\n",
      "                 Class     Images  Instances          P          R      mAP50   \n",
      "                   all       2581       5637      0.904       0.63      0.749      0.544\n",
      "\n",
      "      Epoch    GPU_mem   box_loss   obj_loss   cls_loss  Instances       Size\n",
      "      32/74      1.83G    0.03249   0.009235   0.004532         21        640: 1\n",
      "                 Class     Images  Instances          P          R      mAP50   \n",
      "                   all       2581       5637      0.908      0.634      0.825      0.598\n"
     ]
    },
    {
     "name": "stdout",
     "output_type": "stream",
     "text": [
      "\n",
      "      Epoch    GPU_mem   box_loss   obj_loss   cls_loss  Instances       Size\n",
      "      33/74      1.83G    0.03184   0.008925    0.00425         20        640: 1\n",
      "                 Class     Images  Instances          P          R      mAP50   \n",
      "                   all       2581       5637      0.906      0.629      0.693      0.493\n",
      "\n",
      "      Epoch    GPU_mem   box_loss   obj_loss   cls_loss  Instances       Size\n",
      "      34/74      1.83G    0.03214   0.009013   0.004089         33        640: 1\n",
      "                 Class     Images  Instances          P          R      mAP50   \n",
      "                   all       2581       5637      0.913      0.628      0.711      0.508\n",
      "\n",
      "      Epoch    GPU_mem   box_loss   obj_loss   cls_loss  Instances       Size\n",
      "      35/74      1.83G    0.03197   0.009057    0.00453         21        640: 1\n",
      "                 Class     Images  Instances          P          R      mAP50   \n",
      "                   all       2581       5637      0.898      0.627       0.67      0.492\n",
      "\n",
      "      Epoch    GPU_mem   box_loss   obj_loss   cls_loss  Instances       Size\n",
      "      36/74      1.83G    0.03164   0.008808   0.004016         21        640: 1\n",
      "                 Class     Images  Instances          P          R      mAP50   \n",
      "                   all       2581       5637      0.921      0.629      0.674      0.489\n",
      "\n",
      "      Epoch    GPU_mem   box_loss   obj_loss   cls_loss  Instances       Size\n",
      "      37/74      1.83G    0.03116   0.008776   0.004004         20        640: 1\n",
      "                 Class     Images  Instances          P          R      mAP50   \n",
      "                   all       2581       5637      0.926      0.629      0.848      0.615\n",
      "\n",
      "      Epoch    GPU_mem   box_loss   obj_loss   cls_loss  Instances       Size\n",
      "      38/74      1.83G    0.03114   0.008693   0.003908         26        640: 1\n",
      "                 Class     Images  Instances          P          R      mAP50   \n",
      "                   all       2581       5637      0.913      0.643       0.79      0.585\n",
      "\n",
      "      Epoch    GPU_mem   box_loss   obj_loss   cls_loss  Instances       Size\n",
      "      39/74      1.83G    0.03031   0.008684   0.004083         26        640: 1\n",
      "                 Class     Images  Instances          P          R      mAP50   \n",
      "                   all       2581       5637      0.931      0.642      0.817      0.607\n",
      "\n",
      "      Epoch    GPU_mem   box_loss   obj_loss   cls_loss  Instances       Size\n",
      "      40/74      1.83G    0.03011   0.008567   0.003696         31        640: 1\n",
      "                 Class     Images  Instances          P          R      mAP50   \n",
      "                   all       2581       5637      0.914      0.644      0.808      0.608\n",
      "\n",
      "      Epoch    GPU_mem   box_loss   obj_loss   cls_loss  Instances       Size\n",
      "      41/74      1.83G    0.03032   0.008505   0.003707         24        640: 1\n",
      "                 Class     Images  Instances          P          R      mAP50   \n",
      "                   all       2581       5637      0.925      0.644      0.812      0.609\n",
      "\n",
      "      Epoch    GPU_mem   box_loss   obj_loss   cls_loss  Instances       Size\n",
      "      42/74      1.83G    0.02963   0.008513   0.003645         18        640: 1\n",
      "                 Class     Images  Instances          P          R      mAP50   \n",
      "                   all       2581       5637      0.929      0.649      0.827      0.635\n",
      "\n",
      "      Epoch    GPU_mem   box_loss   obj_loss   cls_loss  Instances       Size\n",
      "      43/74      1.83G    0.02972   0.008541   0.003637         14        640: 1\n",
      "                 Class     Images  Instances          P          R      mAP50   \n",
      "                   all       2581       5637      0.933      0.638      0.817      0.618\n",
      "\n",
      "      Epoch    GPU_mem   box_loss   obj_loss   cls_loss  Instances       Size\n",
      "      44/74      1.83G    0.02931   0.008174   0.003368         24        640: 1\n",
      "                 Class     Images  Instances          P          R      mAP50   \n",
      "                   all       2581       5637      0.935      0.634      0.814      0.614\n",
      "\n",
      "      Epoch    GPU_mem   box_loss   obj_loss   cls_loss  Instances       Size\n",
      "      45/74      1.83G    0.02938   0.008143   0.003484         17        640: 1\n",
      "                 Class     Images  Instances          P          R      mAP50   \n",
      "                   all       2581       5637      0.935       0.64      0.802      0.613\n",
      "\n",
      "      Epoch    GPU_mem   box_loss   obj_loss   cls_loss  Instances       Size\n",
      "      46/74      1.83G    0.02964   0.008174   0.003247         16        640: 1\n",
      "                 Class     Images  Instances          P          R      mAP50   \n",
      "                   all       2581       5637      0.936      0.632      0.847       0.64\n",
      "\n",
      "      Epoch    GPU_mem   box_loss   obj_loss   cls_loss  Instances       Size\n",
      "      47/74      1.83G    0.02878   0.008221   0.003337         18        640: 1\n",
      "                 Class     Images  Instances          P          R      mAP50   \n",
      "                   all       2581       5637       0.94       0.63      0.861      0.642\n",
      "\n",
      "      Epoch    GPU_mem   box_loss   obj_loss   cls_loss  Instances       Size\n",
      "      48/74      1.83G    0.02845   0.007857   0.003355         19        640: 1\n",
      "                 Class     Images  Instances          P          R      mAP50   \n",
      "                   all       2581       5637      0.938      0.648      0.826      0.632\n",
      "\n",
      "      Epoch    GPU_mem   box_loss   obj_loss   cls_loss  Instances       Size\n",
      "      49/74      1.83G    0.02799   0.007616   0.003077         15        640: 1\n",
      "                 Class     Images  Instances          P          R      mAP50   \n",
      "                   all       2581       5637      0.937      0.646      0.826      0.634\n",
      "\n",
      "      Epoch    GPU_mem   box_loss   obj_loss   cls_loss  Instances       Size\n",
      "      50/74      1.83G    0.02746   0.007597    0.00313         16        640: 1\n",
      "                 Class     Images  Instances          P          R      mAP50   \n",
      "                   all       2581       5637      0.932      0.654      0.866      0.661\n",
      "\n",
      "      Epoch    GPU_mem   box_loss   obj_loss   cls_loss  Instances       Size\n",
      "      51/74      1.83G     0.0276   0.007666   0.003161         13        640: 1\n",
      "                 Class     Images  Instances          P          R      mAP50   \n",
      "                   all       2581       5637      0.949      0.643       0.86       0.68\n",
      "\n",
      "      Epoch    GPU_mem   box_loss   obj_loss   cls_loss  Instances       Size\n",
      "      52/74      1.83G    0.02748   0.007569   0.002939         13        640: 1\n",
      "                 Class     Images  Instances          P          R      mAP50   \n",
      "                   all       2581       5637      0.944       0.65       0.83      0.631\n",
      "\n",
      "      Epoch    GPU_mem   box_loss   obj_loss   cls_loss  Instances       Size\n",
      "      53/74      1.83G    0.02708   0.007738   0.003254         13        640: 1\n",
      "                 Class     Images  Instances          P          R      mAP50   \n",
      "                   all       2581       5637      0.942       0.65      0.865      0.686\n",
      "\n",
      "      Epoch    GPU_mem   box_loss   obj_loss   cls_loss  Instances       Size\n",
      "      54/74      1.83G    0.02742   0.007592   0.003048         13        640: 1\n",
      "                 Class     Images  Instances          P          R      mAP50   \n",
      "                   all       2581       5637      0.944      0.649      0.869      0.679\n",
      "\n",
      "      Epoch    GPU_mem   box_loss   obj_loss   cls_loss  Instances       Size\n",
      "      55/74      1.83G    0.02674   0.007547   0.002981         23        640: 1\n",
      "                 Class     Images  Instances          P          R      mAP50   \n",
      "                   all       2581       5637      0.947      0.645      0.869      0.669\n",
      "\n",
      "      Epoch    GPU_mem   box_loss   obj_loss   cls_loss  Instances       Size\n",
      "      56/74      1.83G    0.02661   0.007358   0.003028         23        640: 1\n",
      "                 Class     Images  Instances          P          R      mAP50   \n",
      "                   all       2581       5637      0.937      0.648       0.84      0.666\n",
      "\n",
      "      Epoch    GPU_mem   box_loss   obj_loss   cls_loss  Instances       Size\n",
      "      57/74      1.83G    0.02633   0.007545   0.002964         31        640: 1\n",
      "                 Class     Images  Instances          P          R      mAP50   \n",
      "                   all       2581       5637      0.945      0.651      0.875      0.676\n"
     ]
    },
    {
     "name": "stdout",
     "output_type": "stream",
     "text": [
      "\n",
      "      Epoch    GPU_mem   box_loss   obj_loss   cls_loss  Instances       Size\n",
      "      58/74      1.83G    0.02657   0.007284   0.002829         23        640: 1\n",
      "                 Class     Images  Instances          P          R      mAP50   \n",
      "                   all       2581       5637      0.954      0.655       0.88      0.697\n",
      "\n",
      "      Epoch    GPU_mem   box_loss   obj_loss   cls_loss  Instances       Size\n",
      "      59/74      1.83G    0.02605   0.007157   0.002807         28        640: 1\n",
      "                 Class     Images  Instances          P          R      mAP50   \n",
      "                   all       2581       5637       0.95       0.66      0.846      0.654\n",
      "\n",
      "      Epoch    GPU_mem   box_loss   obj_loss   cls_loss  Instances       Size\n",
      "      60/74      1.83G    0.02573   0.007195   0.002828         33        640: 1\n",
      "                 Class     Images  Instances          P          R      mAP50   \n",
      "                   all       2581       5637      0.951       0.65      0.829       0.66\n",
      "\n",
      "      Epoch    GPU_mem   box_loss   obj_loss   cls_loss  Instances       Size\n",
      "      61/74      1.83G    0.02585   0.007154   0.002817         13        640: 1\n",
      "                 Class     Images  Instances          P          R      mAP50   \n",
      "                   all       2581       5637      0.949      0.651      0.879      0.698\n",
      "\n",
      "      Epoch    GPU_mem   box_loss   obj_loss   cls_loss  Instances       Size\n",
      "      62/74      1.83G    0.02577   0.007083   0.002665         24        640: 1\n",
      "                 Class     Images  Instances          P          R      mAP50   \n",
      "                   all       2581       5637      0.953      0.654      0.884      0.697\n",
      "\n",
      "      Epoch    GPU_mem   box_loss   obj_loss   cls_loss  Instances       Size\n",
      "      63/74      1.83G    0.02498   0.006998   0.002598         23        640: 1\n",
      "                 Class     Images  Instances          P          R      mAP50   \n",
      "                   all       2581       5637      0.956      0.648      0.843      0.663\n",
      "\n",
      "      Epoch    GPU_mem   box_loss   obj_loss   cls_loss  Instances       Size\n",
      "      64/74      1.83G    0.02492    0.00704   0.002424         15        640: 1\n",
      "                 Class     Images  Instances          P          R      mAP50   \n",
      "                   all       2581       5637      0.958      0.648      0.843      0.671\n",
      "\n",
      "      Epoch    GPU_mem   box_loss   obj_loss   cls_loss  Instances       Size\n",
      "      65/74      1.83G    0.02512   0.006929     0.0026         20        640: 1\n",
      "                 Class     Images  Instances          P          R      mAP50   \n",
      "                   all       2581       5637      0.956      0.655       0.85      0.674\n",
      "\n",
      "      Epoch    GPU_mem   box_loss   obj_loss   cls_loss  Instances       Size\n",
      "      66/74      1.83G    0.02474   0.006942   0.002516         36        640: 1\n",
      "                 Class     Images  Instances          P          R      mAP50   \n",
      "                   all       2581       5637      0.955      0.655      0.877      0.708\n",
      "\n",
      "      Epoch    GPU_mem   box_loss   obj_loss   cls_loss  Instances       Size\n",
      "      67/74      1.83G      0.025   0.006991   0.002591         25        640: 1\n",
      "                 Class     Images  Instances          P          R      mAP50   \n",
      "                   all       2581       5637      0.945      0.661       0.85      0.678\n",
      "\n",
      "      Epoch    GPU_mem   box_loss   obj_loss   cls_loss  Instances       Size\n",
      "      68/74      1.83G    0.02415   0.006774   0.002381         24        640: 1\n",
      "                 Class     Images  Instances          P          R      mAP50   \n",
      "                   all       2581       5637      0.956      0.656      0.849      0.693\n",
      "\n",
      "      Epoch    GPU_mem   box_loss   obj_loss   cls_loss  Instances       Size\n",
      "      69/74      1.83G    0.02422   0.006788   0.002352         17        640: 1\n",
      "                 Class     Images  Instances          P          R      mAP50   \n",
      "                   all       2581       5637       0.96      0.656      0.851      0.697\n",
      "\n",
      "      Epoch    GPU_mem   box_loss   obj_loss   cls_loss  Instances       Size\n",
      "      70/74      1.83G    0.02425   0.006929    0.00221         15        640: 1\n",
      "                 Class     Images  Instances          P          R      mAP50   \n",
      "                   all       2581       5637      0.959      0.655      0.852      0.695\n",
      "\n",
      "      Epoch    GPU_mem   box_loss   obj_loss   cls_loss  Instances       Size\n",
      "      71/74      1.83G    0.02376   0.006755   0.002314         13        640: 1\n",
      "                 Class     Images  Instances          P          R      mAP50   \n",
      "                   all       2581       5637      0.965      0.656      0.857      0.697\n",
      "\n",
      "      Epoch    GPU_mem   box_loss   obj_loss   cls_loss  Instances       Size\n",
      "      72/74      1.83G    0.02395   0.006907    0.00243         19        640: 1\n",
      "                 Class     Images  Instances          P          R      mAP50   \n",
      "                   all       2581       5637      0.964      0.659      0.884      0.727\n",
      "\n",
      "      Epoch    GPU_mem   box_loss   obj_loss   cls_loss  Instances       Size\n",
      "      73/74      1.83G    0.02346   0.006733   0.002368         23        640: 1\n",
      "                 Class     Images  Instances          P          R      mAP50   \n",
      "                   all       2581       5637      0.706      0.808      0.855      0.703\n",
      "\n",
      "      Epoch    GPU_mem   box_loss   obj_loss   cls_loss  Instances       Size\n",
      "      74/74      1.83G    0.02366   0.006702   0.002378         14        640: 1\n",
      "                 Class     Images  Instances          P          R      mAP50   \n",
      "                   all       2581       5637       0.71      0.816      0.857      0.702\n",
      "\n",
      "75 epochs completed in 0.531 hours.\n",
      "Optimizer stripped from yolov5/runs/train/exp9/weights/last.pt, 14.4MB\n",
      "Optimizer stripped from yolov5/runs/train/exp9/weights/best.pt, 14.4MB\n",
      "\n",
      "Validating yolov5/runs/train/exp9/weights/best.pt...\n",
      "                 Class     Images  Instances          P          R      mAP50   \n",
      "                   all       2581       5637      0.963      0.659      0.884      0.727\n",
      "                 Close       2581        249      0.938      0.984      0.983      0.781\n",
      "                  code       2581       3027      0.955      0.951      0.985       0.84\n",
      "              Continue       2581        315      0.948      0.854      0.875      0.714\n",
      "                FBAuth       2581        426      0.986      0.796      0.809      0.662\n",
      "            GoogleAuth       2581          6          1          0      0.577      0.455\n",
      "            loginfield       2581          9          1          0      0.995      0.855\n",
      "         passwordfield       2581        759      0.941      0.862      0.944      0.783\n",
      "                   Two       2581        846      0.936      0.826      0.907      0.725\n",
      "Results saved to \u001b[1myolov5/runs/train/exp9\u001b[0m\n"
     ]
    }
   ],
   "source": [
    "# Train YOLOv5s on COCO128 for 3 epochs\n",
    "!python yolov5/train.py --img 640 --batch 8 --epochs 75 --data coco128.yaml --weights yolov5s.pt --cache ram"
   ]
  },
  {
   "cell_type": "markdown",
   "metadata": {
    "id": "15glLzbQx5u0"
   },
   "source": [
    "# 4. Visualize"
   ]
  },
  {
   "cell_type": "markdown",
   "metadata": {
    "id": "nWOsI5wJR1o3"
   },
   "source": [
    "## Comet Logging and Visualization 🌟 NEW\n",
    "[Comet](https://bit.ly/yolov5-readme-comet) is now fully integrated with YOLOv5. Track and visualize model metrics in real time, save your hyperparameters, datasets, and model checkpoints, and visualize your model predictions with [Comet Custom Panels](https://bit.ly/yolov5-colab-comet-panels)! Comet makes sure you never lose track of your work and makes it easy to share results and collaborate across teams of all sizes! \n",
    "\n",
    "Getting started is easy:\n",
    "```shell\n",
    "pip install comet_ml  # 1. install\n",
    "export COMET_API_KEY=<Your API Key>  # 2. paste API key\n",
    "python train.py --img 640 --epochs 3 --data coco128.yaml --weights yolov5s.pt  # 3. train\n",
    "```\n",
    "\n",
    "To learn more about all of the supported Comet features for this integration, check out the [Comet Tutorial](https://github.com/ultralytics/yolov5/tree/master/utils/loggers/comet). If you'd like to learn more about Comet, head over to our [documentation](https://bit.ly/yolov5-colab-comet-docs). Get started by trying out the Comet Colab Notebook:\n",
    "[![Open In Colab](https://colab.research.google.com/assets/colab-badge.svg)](https://colab.research.google.com/drive/1RG0WOQyxlDlo5Km8GogJpIEJlg_5lyYO?usp=sharing)\n",
    "\n",
    "<img width=\"1920\" alt=\"yolo-ui\" src=\"https://user-images.githubusercontent.com/26833433/202851203-164e94e1-2238-46dd-91f8-de020e9d6b41.png\">"
   ]
  },
  {
   "cell_type": "markdown",
   "metadata": {
    "id": "Lay2WsTjNJzP"
   },
   "source": [
    "## ClearML Logging and Automation 🌟 NEW\n",
    "\n",
    "[ClearML](https://cutt.ly/yolov5-notebook-clearml) is completely integrated into YOLOv5 to track your experimentation, manage dataset versions and even remotely execute training runs. To enable ClearML (check cells above):\n",
    "\n",
    "- `pip install clearml`\n",
    "- run `clearml-init` to connect to a ClearML server (**deploy your own [open-source server](https://github.com/allegroai/clearml-server)**, or use our [free hosted server](https://cutt.ly/yolov5-notebook-clearml))\n",
    "\n",
    "You'll get all the great expected features from an experiment manager: live updates, model upload, experiment comparison etc. but ClearML also tracks uncommitted changes and installed packages for example. Thanks to that ClearML Tasks (which is what we call experiments) are also reproducible on different machines! With only 1 extra line, we can schedule a YOLOv5 training task on a queue to be executed by any number of ClearML Agents (workers).\n",
    "\n",
    "You can use ClearML Data to version your dataset and then pass it to YOLOv5 simply using its unique ID. This will help you keep track of your data without adding extra hassle. Explore the [ClearML Tutorial](https://github.com/ultralytics/yolov5/tree/master/utils/loggers/clearml) for details!\n",
    "\n",
    "<a href=\"https://cutt.ly/yolov5-notebook-clearml\">\n",
    "<img alt=\"ClearML Experiment Management UI\" src=\"https://github.com/thepycoder/clearml_screenshots/raw/main/scalars.jpg\" width=\"1280\"/></a>"
   ]
  },
  {
   "cell_type": "markdown",
   "metadata": {},
   "source": []
  },
  {
   "cell_type": "markdown",
   "metadata": {
    "id": "-WPvRbS5Swl6"
   },
   "source": [
    "## Local Logging\n",
    "\n",
    "Training results are automatically logged with [Tensorboard](https://www.tensorflow.org/tensorboard) and [CSV](https://github.com/ultralytics/yolov5/pull/4148) loggers to `runs/train`, with a new experiment directory created for each new training as `runs/train/exp2`, `runs/train/exp3`, etc.\n",
    "\n",
    "This directory contains train and val statistics, mosaics, labels, predictions and augmentated mosaics, as well as metrics and charts including precision-recall (PR) curves and confusion matrices. \n",
    "\n",
    "<img alt=\"Local logging results\" src=\"https://user-images.githubusercontent.com/26833433/183222430-e1abd1b7-782c-4cde-b04d-ad52926bf818.jpg\" width=\"1280\"/>\n"
   ]
  },
  {
   "cell_type": "markdown",
   "metadata": {
    "id": "Zelyeqbyt3GD"
   },
   "source": [
    "# Environments\n",
    "\n",
    "YOLOv5 may be run in any of the following up-to-date verified environments (with all dependencies including [CUDA](https://developer.nvidia.com/cuda)/[CUDNN](https://developer.nvidia.com/cudnn), [Python](https://www.python.org/) and [PyTorch](https://pytorch.org/) preinstalled):\n",
    "\n",
    "- **Notebooks** with free GPU: <a href=\"https://bit.ly/yolov5-paperspace-notebook\"><img src=\"https://assets.paperspace.io/img/gradient-badge.svg\" alt=\"Run on Gradient\"></a> <a href=\"https://colab.research.google.com/github/ultralytics/yolov5/blob/master/tutorial.ipynb\"><img src=\"https://colab.research.google.com/assets/colab-badge.svg\" alt=\"Open In Colab\"></a> <a href=\"https://www.kaggle.com/ultralytics/yolov5\"><img src=\"https://kaggle.com/static/images/open-in-kaggle.svg\" alt=\"Open In Kaggle\"></a>\n",
    "- **Google Cloud** Deep Learning VM. See [GCP Quickstart Guide](https://github.com/ultralytics/yolov5/wiki/GCP-Quickstart)\n",
    "- **Amazon** Deep Learning AMI. See [AWS Quickstart Guide](https://github.com/ultralytics/yolov5/wiki/AWS-Quickstart)\n",
    "- **Docker Image**. See [Docker Quickstart Guide](https://github.com/ultralytics/yolov5/wiki/Docker-Quickstart) <a href=\"https://hub.docker.com/r/ultralytics/yolov5\"><img src=\"https://img.shields.io/docker/pulls/ultralytics/yolov5?logo=docker\" alt=\"Docker Pulls\"></a>\n"
   ]
  },
  {
   "cell_type": "markdown",
   "metadata": {
    "id": "6Qu7Iesl0p54"
   },
   "source": [
    "# Status\n",
    "\n",
    "![YOLOv5 CI](https://github.com/ultralytics/yolov5/actions/workflows/ci-testing.yml/badge.svg)\n",
    "\n",
    "If this badge is green, all [YOLOv5 GitHub Actions](https://github.com/ultralytics/yolov5/actions) Continuous Integration (CI) tests are currently passing. CI tests verify correct operation of YOLOv5 training ([train.py](https://github.com/ultralytics/yolov5/blob/master/train.py)), testing ([val.py](https://github.com/ultralytics/yolov5/blob/master/val.py)), inference ([detect.py](https://github.com/ultralytics/yolov5/blob/master/detect.py)) and export ([export.py](https://github.com/ultralytics/yolov5/blob/master/export.py)) on macOS, Windows, and Ubuntu every 24 hours and on every commit.\n"
   ]
  },
  {
   "cell_type": "markdown",
   "metadata": {
    "id": "IEijrePND_2I"
   },
   "source": [
    "# Appendix\n",
    "\n",
    "Additional content below."
   ]
  },
  {
   "cell_type": "code",
   "execution_count": null,
   "metadata": {
    "id": "GMusP4OAxFu6"
   },
   "outputs": [],
   "source": [
    "# YOLOv5 PyTorch HUB Inference (DetectionModels only)\n",
    "import torch\n",
    "\n",
    "model = torch.hub.load('ultralytics/yolov5', 'yolov5s-seg')  # yolov5n - yolov5x6 or custom\n",
    "im = 'https://ultralytics.com/images/zidane.jpg'  # file, Path, PIL.Image, OpenCV, nparray, list\n",
    "results = model(im)  # inference\n",
    "results.print()  # or .show(), .save(), .crop(), .pandas(), etc."
   ]
  }
 ],
 "metadata": {
  "accelerator": "GPU",
  "colab": {
   "name": "YOLOv5 Segmentation Tutorial",
   "provenance": [],
   "toc_visible": true
  },
  "kernelspec": {
   "display_name": "Python 3 (ipykernel)",
   "language": "python",
   "name": "python3"
  },
  "language_info": {
   "codemirror_mode": {
    "name": "ipython",
    "version": 3
   },
   "file_extension": ".py",
   "mimetype": "text/x-python",
   "name": "python",
   "nbconvert_exporter": "python",
   "pygments_lexer": "ipython3",
   "version": "3.8.10"
  }
 },
 "nbformat": 4,
 "nbformat_minor": 1
}
